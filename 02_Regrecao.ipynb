{
  "nbformat": 4,
  "nbformat_minor": 0,
  "metadata": {
    "colab": {
      "provenance": [],
      "gpuType": "T4",
      "include_colab_link": true
    },
    "kernelspec": {
      "name": "python3",
      "display_name": "Python 3"
    },
    "language_info": {
      "name": "python"
    },
    "accelerator": "GPU"
  },
  "cells": [
    {
      "cell_type": "markdown",
      "metadata": {
        "id": "view-in-github",
        "colab_type": "text"
      },
      "source": [
        "<a href=\"https://colab.research.google.com/github/Equipe16-IAA/IAA012-FrameworksIA/blob/main/02_Regrecao.ipynb\" target=\"_parent\"><img src=\"https://colab.research.google.com/assets/colab-badge.svg\" alt=\"Open In Colab\"/></a>"
      ]
    },
    {
      "cell_type": "markdown",
      "source": [
        "# 02 - Regressão\n",
        "\n",
        "---"
      ],
      "metadata": {
        "id": "uRp8mmEtSBfE"
      }
    },
    {
      "cell_type": "markdown",
      "source": [
        "---\n",
        "# Prática 1: Predição de vinho"
      ],
      "metadata": {
        "id": "ouujzhEpcWoy"
      }
    },
    {
      "cell_type": "markdown",
      "source": [
        "#### 1. Importação das bibliotecas"
      ],
      "metadata": {
        "id": "z6xrBcnockXM"
      }
    },
    {
      "cell_type": "code",
      "source": [
        "import tensorflow as tf\n",
        "import pandas as pd\n",
        "import numpy as np\n",
        "import matplotlib.pyplot as plt\n",
        "\n",
        "from tensorflow.python.keras import backend\n",
        "from sklearn.model_selection import train_test_split\n",
        "from sklearn.metrics import r2_score, mean_squared_error\n",
        "from math import sqrt"
      ],
      "metadata": {
        "id": "fLsOdvIScceD"
      },
      "execution_count": 57,
      "outputs": []
    },
    {
      "cell_type": "code",
      "source": [
        "# Verificar versão do TensorFlow\n",
        "tf.__version__"
      ],
      "metadata": {
        "id": "S7-1LaeQnTE5",
        "colab": {
          "base_uri": "https://localhost:8080/",
          "height": 36
        },
        "outputId": "245b8473-3fa2-4268-ac74-4254e1472969"
      },
      "execution_count": 58,
      "outputs": [
        {
          "output_type": "execute_result",
          "data": {
            "text/plain": [
              "'2.17.1'"
            ],
            "application/vnd.google.colaboratory.intrinsic+json": {
              "type": "string"
            }
          },
          "metadata": {},
          "execution_count": 58
        }
      ]
    },
    {
      "cell_type": "markdown",
      "source": [
        "#### 2. Importação dos dados"
      ],
      "metadata": {
        "id": "LOJvhTo3corx"
      }
    },
    {
      "cell_type": "code",
      "source": [
        "from sklearn.datasets import load_wine\n",
        "\n",
        "data = load_wine()\n",
        "\n",
        "print(data.keys())\n",
        "print(data['target'])\n",
        "\n",
        "X = data['data']\n",
        "Y = data['target']\n",
        "\n",
        "print(X.shape)\n",
        "print(Y.shape)"
      ],
      "metadata": {
        "id": "96Mrb4BbkMkN",
        "colab": {
          "base_uri": "https://localhost:8080/"
        },
        "outputId": "da606f30-7140-417d-f4ab-4918d187b8c7"
      },
      "execution_count": 99,
      "outputs": [
        {
          "output_type": "stream",
          "name": "stdout",
          "text": [
            "dict_keys(['data', 'target', 'frame', 'target_names', 'DESCR', 'feature_names'])\n",
            "[0 0 0 0 0 0 0 0 0 0 0 0 0 0 0 0 0 0 0 0 0 0 0 0 0 0 0 0 0 0 0 0 0 0 0 0 0\n",
            " 0 0 0 0 0 0 0 0 0 0 0 0 0 0 0 0 0 0 0 0 0 0 1 1 1 1 1 1 1 1 1 1 1 1 1 1 1\n",
            " 1 1 1 1 1 1 1 1 1 1 1 1 1 1 1 1 1 1 1 1 1 1 1 1 1 1 1 1 1 1 1 1 1 1 1 1 1\n",
            " 1 1 1 1 1 1 1 1 1 1 1 1 1 1 1 1 1 1 1 2 2 2 2 2 2 2 2 2 2 2 2 2 2 2 2 2 2\n",
            " 2 2 2 2 2 2 2 2 2 2 2 2 2 2 2 2 2 2 2 2 2 2 2 2 2 2 2 2 2 2]\n",
            "(178, 13)\n",
            "(178,)\n"
          ]
        }
      ]
    },
    {
      "cell_type": "markdown",
      "source": [
        "#### 3. Separação da base em treino e teste (75/25)"
      ],
      "metadata": {
        "id": "xyFXWCi-cy3a"
      }
    },
    {
      "cell_type": "code",
      "source": [
        "x_train, x_test, y_train, y_test = train_test_split(X, Y,\n",
        "                                      test_size=0.25)"
      ],
      "metadata": {
        "id": "tpZok8rTc1dQ"
      },
      "execution_count": 83,
      "outputs": []
    },
    {
      "cell_type": "markdown",
      "source": [
        "#### 4. Criação do modelo"
      ],
      "metadata": {
        "id": "Mhka3hzAc3t3"
      }
    },
    {
      "cell_type": "code",
      "source": [
        "# 3 camadas\n",
        "i = tf.keras.layers.Input(shape=(13,))\n",
        "x = tf.keras.layers.Dense(50, activation=\"relu\")(i)\n",
        "x = tf.keras.layers.Dense(1)(x)\n",
        "\n",
        "model = tf.keras.models.Model(i, x)\n",
        "\n",
        "\n"
      ],
      "metadata": {
        "id": "47SAhnFBc6pK"
      },
      "execution_count": 102,
      "outputs": []
    },
    {
      "cell_type": "markdown",
      "source": [
        "#### 5. Compilação e treinamento do modelo"
      ],
      "metadata": {
        "id": "Y_MB7OB-c-5h"
      }
    },
    {
      "cell_type": "code",
      "source": [
        "# Criação de funções para as métricas R2 e RMSE serem inseridas no modelo\n",
        "def rmse(y_true, y_pred):\n",
        "  return sqrt(mean_squared_error(y_true, y_pred))\n",
        "\n",
        "def r2(y_true, y_pred):\n",
        "  return r2_score(y_true, y_pred)"
      ],
      "metadata": {
        "id": "RcdX9qV4lAUA"
      },
      "execution_count": 125,
      "outputs": []
    },
    {
      "cell_type": "code",
      "source": [
        "# Compilação\n",
        "optimizer=tf.keras.optimizers.Adam(learning_rate=0.05)\n",
        "# optimizer=tf.keras.optimizers.SGD(learning_rate=0.2, momentum=0.5)\n",
        "# optimizer=tf.keras.optimizers.RMSprop(0.01)\n",
        "\n",
        "model.compile(optimizer=optimizer,\n",
        "              loss=\"mse\",\n",
        "              metrics=['accuracy'])"
      ],
      "metadata": {
        "id": "EFYPx61gdBse"
      },
      "execution_count": 129,
      "outputs": []
    },
    {
      "cell_type": "code",
      "source": [
        "# Early stop para epochs\n",
        "early_stop = tf.keras.callbacks.EarlyStopping(\n",
        "                            monitor='val_loss',\n",
        "                            patience=20,\n",
        "                            restore_best_weights=True)"
      ],
      "metadata": {
        "id": "yDIf8hPcljUq"
      },
      "execution_count": 127,
      "outputs": []
    },
    {
      "cell_type": "code",
      "source": [
        "r = model.fit(x_train, y_train,\n",
        "              epochs=1500,\n",
        "              validation_data=(x_test, y_test),\n",
        "              callbacks=[early_stop])"
      ],
      "metadata": {
        "id": "R27Uw52LdDZc",
        "colab": {
          "base_uri": "https://localhost:8080/"
        },
        "outputId": "ad1e242d-d784-45c9-e102-6590a911094c"
      },
      "execution_count": 130,
      "outputs": [
        {
          "output_type": "stream",
          "name": "stdout",
          "text": [
            "Epoch 1/1500\n",
            "\u001b[1m5/5\u001b[0m \u001b[32m━━━━━━━━━━━━━━━━━━━━\u001b[0m\u001b[37m\u001b[0m \u001b[1m11s\u001b[0m 153ms/step - accuracy: 0.5534 - loss: 19.7140 - val_accuracy: 0.3111 - val_loss: 0.7284\n",
            "Epoch 2/1500\n",
            "\u001b[1m5/5\u001b[0m \u001b[32m━━━━━━━━━━━━━━━━━━━━\u001b[0m\u001b[37m\u001b[0m \u001b[1m0s\u001b[0m 7ms/step - accuracy: 0.4415 - loss: 0.6586 - val_accuracy: 0.3111 - val_loss: 0.7587\n",
            "Epoch 3/1500\n",
            "\u001b[1m5/5\u001b[0m \u001b[32m━━━━━━━━━━━━━━━━━━━━\u001b[0m\u001b[37m\u001b[0m \u001b[1m0s\u001b[0m 7ms/step - accuracy: 0.4198 - loss: 0.6659 - val_accuracy: 0.3111 - val_loss: 0.7667\n",
            "Epoch 4/1500\n",
            "\u001b[1m5/5\u001b[0m \u001b[32m━━━━━━━━━━━━━━━━━━━━\u001b[0m\u001b[37m\u001b[0m \u001b[1m0s\u001b[0m 8ms/step - accuracy: 0.4280 - loss: 0.6906 - val_accuracy: 0.3111 - val_loss: 0.7598\n",
            "Epoch 5/1500\n",
            "\u001b[1m5/5\u001b[0m \u001b[32m━━━━━━━━━━━━━━━━━━━━\u001b[0m\u001b[37m\u001b[0m \u001b[1m0s\u001b[0m 12ms/step - accuracy: 0.4358 - loss: 0.6487 - val_accuracy: 0.3111 - val_loss: 0.7445\n",
            "Epoch 6/1500\n",
            "\u001b[1m5/5\u001b[0m \u001b[32m━━━━━━━━━━━━━━━━━━━━\u001b[0m\u001b[37m\u001b[0m \u001b[1m0s\u001b[0m 8ms/step - accuracy: 0.4245 - loss: 0.6516 - val_accuracy: 0.3111 - val_loss: 0.7258\n",
            "Epoch 7/1500\n",
            "\u001b[1m5/5\u001b[0m \u001b[32m━━━━━━━━━━━━━━━━━━━━\u001b[0m\u001b[37m\u001b[0m \u001b[1m0s\u001b[0m 12ms/step - accuracy: 0.4245 - loss: 0.6649 - val_accuracy: 0.3111 - val_loss: 0.7080\n",
            "Epoch 8/1500\n",
            "\u001b[1m5/5\u001b[0m \u001b[32m━━━━━━━━━━━━━━━━━━━━\u001b[0m\u001b[37m\u001b[0m \u001b[1m0s\u001b[0m 13ms/step - accuracy: 0.4636 - loss: 0.5793 - val_accuracy: 0.3111 - val_loss: 0.6947\n",
            "Epoch 9/1500\n",
            "\u001b[1m5/5\u001b[0m \u001b[32m━━━━━━━━━━━━━━━━━━━━\u001b[0m\u001b[37m\u001b[0m \u001b[1m0s\u001b[0m 15ms/step - accuracy: 0.4332 - loss: 0.6129 - val_accuracy: 0.3111 - val_loss: 0.6852\n",
            "Epoch 10/1500\n",
            "\u001b[1m5/5\u001b[0m \u001b[32m━━━━━━━━━━━━━━━━━━━━\u001b[0m\u001b[37m\u001b[0m \u001b[1m0s\u001b[0m 17ms/step - accuracy: 0.4245 - loss: 0.6045 - val_accuracy: 0.3111 - val_loss: 0.6797\n",
            "Epoch 11/1500\n",
            "\u001b[1m5/5\u001b[0m \u001b[32m━━━━━━━━━━━━━━━━━━━━\u001b[0m\u001b[37m\u001b[0m \u001b[1m0s\u001b[0m 15ms/step - accuracy: 0.4384 - loss: 0.5840 - val_accuracy: 0.3111 - val_loss: 0.6771\n",
            "Epoch 12/1500\n",
            "\u001b[1m5/5\u001b[0m \u001b[32m━━━━━━━━━━━━━━━━━━━━\u001b[0m\u001b[37m\u001b[0m \u001b[1m0s\u001b[0m 11ms/step - accuracy: 0.4276 - loss: 0.5831 - val_accuracy: 0.3111 - val_loss: 0.6765\n",
            "Epoch 13/1500\n",
            "\u001b[1m5/5\u001b[0m \u001b[32m━━━━━━━━━━━━━━━━━━━━\u001b[0m\u001b[37m\u001b[0m \u001b[1m0s\u001b[0m 11ms/step - accuracy: 0.4393 - loss: 0.5612 - val_accuracy: 0.3111 - val_loss: 0.6771\n",
            "Epoch 14/1500\n",
            "\u001b[1m5/5\u001b[0m \u001b[32m━━━━━━━━━━━━━━━━━━━━\u001b[0m\u001b[37m\u001b[0m \u001b[1m0s\u001b[0m 14ms/step - accuracy: 0.4640 - loss: 0.5366 - val_accuracy: 0.3111 - val_loss: 0.6786\n",
            "Epoch 15/1500\n",
            "\u001b[1m5/5\u001b[0m \u001b[32m━━━━━━━━━━━━━━━━━━━━\u001b[0m\u001b[37m\u001b[0m \u001b[1m0s\u001b[0m 10ms/step - accuracy: 0.4267 - loss: 0.5641 - val_accuracy: 0.3111 - val_loss: 0.6794\n",
            "Epoch 16/1500\n",
            "\u001b[1m5/5\u001b[0m \u001b[32m━━━━━━━━━━━━━━━━━━━━\u001b[0m\u001b[37m\u001b[0m \u001b[1m0s\u001b[0m 19ms/step - accuracy: 0.4237 - loss: 0.5768 - val_accuracy: 0.3111 - val_loss: 0.6804\n",
            "Epoch 17/1500\n",
            "\u001b[1m5/5\u001b[0m \u001b[32m━━━━━━━━━━━━━━━━━━━━\u001b[0m\u001b[37m\u001b[0m \u001b[1m0s\u001b[0m 15ms/step - accuracy: 0.4497 - loss: 0.5457 - val_accuracy: 0.3111 - val_loss: 0.6806\n",
            "Epoch 18/1500\n",
            "\u001b[1m5/5\u001b[0m \u001b[32m━━━━━━━━━━━━━━━━━━━━\u001b[0m\u001b[37m\u001b[0m \u001b[1m0s\u001b[0m 17ms/step - accuracy: 0.4714 - loss: 0.5294 - val_accuracy: 0.3111 - val_loss: 0.6806\n",
            "Epoch 19/1500\n",
            "\u001b[1m5/5\u001b[0m \u001b[32m━━━━━━━━━━━━━━━━━━━━\u001b[0m\u001b[37m\u001b[0m \u001b[1m0s\u001b[0m 15ms/step - accuracy: 0.4315 - loss: 0.5712 - val_accuracy: 0.3111 - val_loss: 0.6807\n",
            "Epoch 20/1500\n",
            "\u001b[1m5/5\u001b[0m \u001b[32m━━━━━━━━━━━━━━━━━━━━\u001b[0m\u001b[37m\u001b[0m \u001b[1m0s\u001b[0m 15ms/step - accuracy: 0.4250 - loss: 0.5660 - val_accuracy: 0.3111 - val_loss: 0.6820\n",
            "Epoch 21/1500\n",
            "\u001b[1m5/5\u001b[0m \u001b[32m━━━━━━━━━━━━━━━━━━━━\u001b[0m\u001b[37m\u001b[0m \u001b[1m0s\u001b[0m 16ms/step - accuracy: 0.4271 - loss: 0.5710 - val_accuracy: 0.3111 - val_loss: 0.6846\n",
            "Epoch 22/1500\n",
            "\u001b[1m5/5\u001b[0m \u001b[32m━━━━━━━━━━━━━━━━━━━━\u001b[0m\u001b[37m\u001b[0m \u001b[1m0s\u001b[0m 14ms/step - accuracy: 0.4324 - loss: 0.5664 - val_accuracy: 0.3111 - val_loss: 0.6866\n",
            "Epoch 23/1500\n",
            "\u001b[1m5/5\u001b[0m \u001b[32m━━━━━━━━━━━━━━━━━━━━\u001b[0m\u001b[37m\u001b[0m \u001b[1m0s\u001b[0m 14ms/step - accuracy: 0.4150 - loss: 0.5841 - val_accuracy: 0.3111 - val_loss: 0.6881\n",
            "Epoch 24/1500\n",
            "\u001b[1m5/5\u001b[0m \u001b[32m━━━━━━━━━━━━━━━━━━━━\u001b[0m\u001b[37m\u001b[0m \u001b[1m0s\u001b[0m 16ms/step - accuracy: 0.4350 - loss: 0.5649 - val_accuracy: 0.3111 - val_loss: 0.6893\n",
            "Epoch 25/1500\n",
            "\u001b[1m5/5\u001b[0m \u001b[32m━━━━━━━━━━━━━━━━━━━━\u001b[0m\u001b[37m\u001b[0m \u001b[1m0s\u001b[0m 17ms/step - accuracy: 0.4332 - loss: 0.5670 - val_accuracy: 0.3111 - val_loss: 0.6900\n",
            "Epoch 26/1500\n",
            "\u001b[1m5/5\u001b[0m \u001b[32m━━━━━━━━━━━━━━━━━━━━\u001b[0m\u001b[37m\u001b[0m \u001b[1m0s\u001b[0m 13ms/step - accuracy: 0.4350 - loss: 0.5653 - val_accuracy: 0.3111 - val_loss: 0.6899\n",
            "Epoch 27/1500\n",
            "\u001b[1m5/5\u001b[0m \u001b[32m━━━━━━━━━━━━━━━━━━━━\u001b[0m\u001b[37m\u001b[0m \u001b[1m0s\u001b[0m 16ms/step - accuracy: 0.4015 - loss: 0.5991 - val_accuracy: 0.3111 - val_loss: 0.6874\n",
            "Epoch 28/1500\n",
            "\u001b[1m5/5\u001b[0m \u001b[32m━━━━━━━━━━━━━━━━━━━━\u001b[0m\u001b[37m\u001b[0m \u001b[1m0s\u001b[0m 13ms/step - accuracy: 0.4341 - loss: 0.5651 - val_accuracy: 0.3111 - val_loss: 0.6870\n",
            "Epoch 29/1500\n",
            "\u001b[1m5/5\u001b[0m \u001b[32m━━━━━━━━━━━━━━━━━━━━\u001b[0m\u001b[37m\u001b[0m \u001b[1m0s\u001b[0m 8ms/step - accuracy: 0.4189 - loss: 0.5796 - val_accuracy: 0.3111 - val_loss: 0.6868\n",
            "Epoch 30/1500\n",
            "\u001b[1m5/5\u001b[0m \u001b[32m━━━━━━━━━━━━━━━━━━━━\u001b[0m\u001b[37m\u001b[0m \u001b[1m0s\u001b[0m 8ms/step - accuracy: 0.4159 - loss: 0.5831 - val_accuracy: 0.3111 - val_loss: 0.6879\n",
            "Epoch 31/1500\n",
            "\u001b[1m5/5\u001b[0m \u001b[32m━━━━━━━━━━━━━━━━━━━━\u001b[0m\u001b[37m\u001b[0m \u001b[1m0s\u001b[0m 8ms/step - accuracy: 0.4046 - loss: 0.5954 - val_accuracy: 0.3111 - val_loss: 0.6890\n",
            "Epoch 32/1500\n",
            "\u001b[1m5/5\u001b[0m \u001b[32m━━━━━━━━━━━━━━━━━━━━\u001b[0m\u001b[37m\u001b[0m \u001b[1m0s\u001b[0m 8ms/step - accuracy: 0.4306 - loss: 0.5695 - val_accuracy: 0.3111 - val_loss: 0.6887\n"
          ]
        }
      ]
    },
    {
      "cell_type": "markdown",
      "source": [
        "#### 6. Avaliação do modelo"
      ],
      "metadata": {
        "id": "auz-rodqdJtb"
      }
    },
    {
      "cell_type": "code",
      "source": [
        "plt.plot( r.history[\"loss\"], label=\"loss\" )\n",
        "plt.plot( r.history[\"val_loss\"], label=\"val_loss\" )\n",
        "plt.legend()\n"
      ],
      "metadata": {
        "id": "jQvpyh8jdM33",
        "colab": {
          "base_uri": "https://localhost:8080/",
          "height": 447
        },
        "outputId": "a3e71c6f-f140-4cae-9d70-3d5fa34ab164"
      },
      "execution_count": 131,
      "outputs": [
        {
          "output_type": "execute_result",
          "data": {
            "text/plain": [
              "<matplotlib.legend.Legend at 0x78d6877e81c0>"
            ]
          },
          "metadata": {},
          "execution_count": 131
        },
        {
          "output_type": "display_data",
          "data": {
            "text/plain": [
              "<Figure size 640x480 with 1 Axes>"
            ],
            "image/png": "[encoded data removed]"
          },
          "metadata": {}
        }
      ]
    },
    {
      "cell_type": "code",
      "source": [
        "\n",
        "plt.plot( r.history[\"rmse\"], label=\"rmse\" )\n",
        "plt.plot( r.history[\"val_rmse\"], label=\"val_rmse\" )\n",
        "plt.legend()\n"
      ],
      "metadata": {
        "colab": {
          "base_uri": "https://localhost:8080/",
          "height": 176
        },
        "id": "cYJOasa9SeME",
        "outputId": "2566e5c5-a769-4fe1-cbee-89fa5f3ebf01"
      },
      "execution_count": 132,
      "outputs": [
        {
          "output_type": "error",
          "ename": "KeyError",
          "evalue": "'rmse'",
          "traceback": [
            "\u001b[0;31m---------------------------------------------------------------------------\u001b[0m",
            "\u001b[0;31mKeyError\u001b[0m                                  Traceback (most recent call last)",
            "\u001b[0;32m<ipython-input-132-b91ea1808c51>\u001b[0m in \u001b[0;36m<cell line: 1>\u001b[0;34m()\u001b[0m\n\u001b[0;32m----> 1\u001b[0;31m \u001b[0mplt\u001b[0m\u001b[0;34m.\u001b[0m\u001b[0mplot\u001b[0m\u001b[0;34m(\u001b[0m \u001b[0mr\u001b[0m\u001b[0;34m.\u001b[0m\u001b[0mhistory\u001b[0m\u001b[0;34m[\u001b[0m\u001b[0;34m\"rmse\"\u001b[0m\u001b[0;34m]\u001b[0m\u001b[0;34m,\u001b[0m \u001b[0mlabel\u001b[0m\u001b[0;34m=\u001b[0m\u001b[0;34m\"rmse\"\u001b[0m \u001b[0;34m)\u001b[0m\u001b[0;34m\u001b[0m\u001b[0;34m\u001b[0m\u001b[0m\n\u001b[0m\u001b[1;32m      2\u001b[0m \u001b[0mplt\u001b[0m\u001b[0;34m.\u001b[0m\u001b[0mplot\u001b[0m\u001b[0;34m(\u001b[0m \u001b[0mr\u001b[0m\u001b[0;34m.\u001b[0m\u001b[0mhistory\u001b[0m\u001b[0;34m[\u001b[0m\u001b[0;34m\"val_rmse\"\u001b[0m\u001b[0;34m]\u001b[0m\u001b[0;34m,\u001b[0m \u001b[0mlabel\u001b[0m\u001b[0;34m=\u001b[0m\u001b[0;34m\"val_rmse\"\u001b[0m \u001b[0;34m)\u001b[0m\u001b[0;34m\u001b[0m\u001b[0;34m\u001b[0m\u001b[0m\n\u001b[1;32m      3\u001b[0m \u001b[0mplt\u001b[0m\u001b[0;34m.\u001b[0m\u001b[0mlegend\u001b[0m\u001b[0;34m(\u001b[0m\u001b[0;34m)\u001b[0m\u001b[0;34m\u001b[0m\u001b[0;34m\u001b[0m\u001b[0m\n",
            "\u001b[0;31mKeyError\u001b[0m: 'rmse'"
          ]
        }
      ]
    },
    {
      "cell_type": "code",
      "source": [
        "plt.plot( r.history[\"r2\"], label=\"r2\" )\n",
        "plt.plot( r.history[\"val_r2\"], label=\"val_r2\" )\n",
        "plt.legend()"
      ],
      "metadata": {
        "id": "XJ7IRCLvSkKg",
        "outputId": "c6bf219b-faec-4a62-b4e5-e071adf30f15",
        "colab": {
          "base_uri": "https://localhost:8080/",
          "height": 176
        }
      },
      "execution_count": 121,
      "outputs": [
        {
          "output_type": "error",
          "ename": "KeyError",
          "evalue": "'r2'",
          "traceback": [
            "\u001b[0;31m---------------------------------------------------------------------------\u001b[0m",
            "\u001b[0;31mKeyError\u001b[0m                                  Traceback (most recent call last)",
            "\u001b[0;32m<ipython-input-121-96a0c62051e8>\u001b[0m in \u001b[0;36m<cell line: 1>\u001b[0;34m()\u001b[0m\n\u001b[0;32m----> 1\u001b[0;31m \u001b[0mplt\u001b[0m\u001b[0;34m.\u001b[0m\u001b[0mplot\u001b[0m\u001b[0;34m(\u001b[0m \u001b[0mr\u001b[0m\u001b[0;34m.\u001b[0m\u001b[0mhistory\u001b[0m\u001b[0;34m[\u001b[0m\u001b[0;34m\"r2\"\u001b[0m\u001b[0;34m]\u001b[0m\u001b[0;34m,\u001b[0m \u001b[0mlabel\u001b[0m\u001b[0;34m=\u001b[0m\u001b[0;34m\"r2\"\u001b[0m \u001b[0;34m)\u001b[0m\u001b[0;34m\u001b[0m\u001b[0;34m\u001b[0m\u001b[0m\n\u001b[0m\u001b[1;32m      2\u001b[0m \u001b[0mplt\u001b[0m\u001b[0;34m.\u001b[0m\u001b[0mplot\u001b[0m\u001b[0;34m(\u001b[0m \u001b[0mr\u001b[0m\u001b[0;34m.\u001b[0m\u001b[0mhistory\u001b[0m\u001b[0;34m[\u001b[0m\u001b[0;34m\"val_r2\"\u001b[0m\u001b[0;34m]\u001b[0m\u001b[0;34m,\u001b[0m \u001b[0mlabel\u001b[0m\u001b[0;34m=\u001b[0m\u001b[0;34m\"val_r2\"\u001b[0m \u001b[0;34m)\u001b[0m\u001b[0;34m\u001b[0m\u001b[0;34m\u001b[0m\u001b[0m\n\u001b[1;32m      3\u001b[0m \u001b[0mplt\u001b[0m\u001b[0;34m.\u001b[0m\u001b[0mlegend\u001b[0m\u001b[0;34m(\u001b[0m\u001b[0;34m)\u001b[0m\u001b[0;34m\u001b[0m\u001b[0;34m\u001b[0m\u001b[0m\n",
            "\u001b[0;31mKeyError\u001b[0m: 'r2'"
          ]
        }
      ]
    },
    {
      "cell_type": "markdown",
      "source": [
        "#### 7. Predições"
      ],
      "metadata": {
        "id": "q9Td-MXIdSNc"
      }
    },
    {
      "cell_type": "code",
      "source": [
        "# Predição\n",
        "y_pred = model.predict(x_test).flatten()"
      ],
      "metadata": {
        "id": "9IWFAQ1udUJ-",
        "colab": {
          "base_uri": "https://localhost:8080/"
        },
        "outputId": "910f6e0e-aefd-455e-e4af-9322f41568fd"
      },
      "execution_count": 122,
      "outputs": [
        {
          "output_type": "stream",
          "name": "stdout",
          "text": [
            "\u001b[1m2/2\u001b[0m \u001b[32m━━━━━━━━━━━━━━━━━━━━\u001b[0m\u001b[37m\u001b[0m \u001b[1m0s\u001b[0m 140ms/step\n"
          ]
        }
      ]
    },
    {
      "cell_type": "code",
      "source": [
        "# Cálculo das métricas de acurácia: mse, r2 e rmse\n",
        "mse  = mean_squared_error(y_test, y_pred)\n",
        "rmse = sqrt(mse)\n",
        "r2   = r2_score(y_test, y_pred)"
      ],
      "metadata": {
        "id": "7bDS4RZ9l12w"
      },
      "execution_count": 123,
      "outputs": []
    },
    {
      "cell_type": "code",
      "source": [
        "# Resultados das métricas de acurácia\n",
        "print(\"mse     = \", mse)\n",
        "print(\"rmse    = \", rmse)\n",
        "print(\"r2      = \", r2)"
      ],
      "metadata": {
        "id": "8REYb74fl8QM",
        "colab": {
          "base_uri": "https://localhost:8080/"
        },
        "outputId": "5a3ea831-0105-4fbc-c4bc-85629ed95672"
      },
      "execution_count": 124,
      "outputs": [
        {
          "output_type": "stream",
          "name": "stdout",
          "text": [
            "mse     =  0.09673949896516798\n",
            "rmse    =  0.3110297396796132\n",
            "r2      =  0.8570091724395752\n"
          ]
        }
      ]
    },
    {
      "cell_type": "markdown",
      "source": [
        "---\n",
        "\n",
        "# Fim do código"
      ],
      "metadata": {
        "id": "0NHcMq0IdhLU"
      }
    }
  ]
}