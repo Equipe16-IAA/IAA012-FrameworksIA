{
  "nbformat": 4,
  "nbformat_minor": 0,
  "metadata": {
    "colab": {
      "provenance": [],
      "gpuType": "T4",
      "authorship_tag": "ABX9TyM8uj/ByLglTbI/b+9oOQUw",
      "include_colab_link": true
    },
    "kernelspec": {
      "name": "python3",
      "display_name": "Python 3"
    },
    "language_info": {
      "name": "python"
    },
    "accelerator": "GPU"
  },
  "cells": [
    {
      "cell_type": "markdown",
      "metadata": {
        "id": "view-in-github",
        "colab_type": "text"
      },
      "source": [
        "<a href=\"https://colab.research.google.com/github/Equipe16-IAA/IAA012-FrameworksIA/blob/main/Exercicio2_Frameworks_Regressao.ipynb\" target=\"_parent\"><img src=\"https://colab.research.google.com/assets/colab-badge.svg\" alt=\"Open In Colab\"/></a>"
      ]
    },
    {
      "cell_type": "markdown",
      "source": [
        "# Exercício 2\n"
      ],
      "metadata": {
        "id": "muBm8PLrMoAs"
      }
    },
    {
      "cell_type": "code",
      "execution_count": null,
      "metadata": {
        "id": "T6Bv2FG_Mgtd"
      },
      "outputs": [],
      "source": [
        "#importação das bibliotecas\n",
        "\n",
        "import tensorflow as tf\n",
        "import pandas as pd\n",
        "import numpy as np\n",
        "import matplotlib.pyplot as plt\n",
        "\n",
        "from tensorflow.python.keras import backend\n",
        "from sklearn.model_selection import train_test_split\n",
        "from sklearn.metrics import r2_score, mean_squared_error\n",
        "from math import sqrt"
      ]
    },
    {
      "cell_type": "code",
      "source": [
        "# verificando a versao do tensorflow\n",
        "tf.__version__"
      ],
      "metadata": {
        "colab": {
          "base_uri": "https://localhost:8080/",
          "height": 36
        },
        "id": "h3yHBVOTPT5S",
        "outputId": "4796b3ce-d055-41d2-d198-272a92033365"
      },
      "execution_count": null,
      "outputs": [
        {
          "output_type": "execute_result",
          "data": {
            "text/plain": [
              "'2.17.1'"
            ],
            "application/vnd.google.colaboratory.intrinsic+json": {
              "type": "string"
            }
          },
          "metadata": {},
          "execution_count": 2
        }
      ]
    },
    {
      "cell_type": "code",
      "source": [
        "# importação dos dados\n",
        "url = \"https://archive.ics.uci.edu/ml/machine-learning-databases/wine-quality/winequality-red.csv\"\n",
        "\n",
        "data = pd.read_csv(url, delimiter=';')\n",
        "\n",
        "data.columns = [\n",
        "'acidez_fixa', # fixed acidity\n",
        "'acidez_volatil', # volatile acidity\n",
        "'acido_citrico', # citric acid\n",
        "'acucar_residual', # residual sugar\n",
        "'cloretos', # chlorides\n",
        "'dioxido_de_enxofre_livre', # free sulfur dioxide\n",
        "'dioxido_de_enxofre_total', # total sulfur dioxide\n",
        "'densidade', # density\n",
        "'pH', # pH\n",
        "'sulfatos', # sulphates\n",
        "'alcool', # alcohol\n",
        "'score_qualidade_vinho' # quality\n",
        "]\n",
        "\n"
      ],
      "metadata": {
        "id": "wOQXGESfM-3a"
      },
      "execution_count": null,
      "outputs": []
    },
    {
      "cell_type": "code",
      "source": [
        "# prompt: mostre quantos registro de cada categoria tem no dataser\n",
        "\n",
        "data['score_qualidade_vinho'].value_counts()"
      ],
      "metadata": {
        "colab": {
          "base_uri": "https://localhost:8080/",
          "height": 303
        },
        "id": "VHoZrwX0AAKR",
        "outputId": "3a0fd5cf-6bce-4bea-d5a2-65db97ef6183"
      },
      "execution_count": null,
      "outputs": [
        {
          "output_type": "execute_result",
          "data": {
            "text/plain": [
              "score_qualidade_vinho\n",
              "5    681\n",
              "6    638\n",
              "7    199\n",
              "4     53\n",
              "8     18\n",
              "3     10\n",
              "Name: count, dtype: int64"
            ],
            "text/html": [
              "<div>\n",
              "<style scoped>\n",
              "    .dataframe tbody tr th:only-of-type {\n",
              "        vertical-align: middle;\n",
              "    }\n",
              "\n",
              "    .dataframe tbody tr th {\n",
              "        vertical-align: top;\n",
              "    }\n",
              "\n",
              "    .dataframe thead th {\n",
              "        text-align: right;\n",
              "    }\n",
              "</style>\n",
              "<table border=\"1\" class=\"dataframe\">\n",
              "  <thead>\n",
              "    <tr style=\"text-align: right;\">\n",
              "      <th></th>\n",
              "      <th>count</th>\n",
              "    </tr>\n",
              "    <tr>\n",
              "      <th>score_qualidade_vinho</th>\n",
              "      <th></th>\n",
              "    </tr>\n",
              "  </thead>\n",
              "  <tbody>\n",
              "    <tr>\n",
              "      <th>5</th>\n",
              "      <td>681</td>\n",
              "    </tr>\n",
              "    <tr>\n",
              "      <th>6</th>\n",
              "      <td>638</td>\n",
              "    </tr>\n",
              "    <tr>\n",
              "      <th>7</th>\n",
              "      <td>199</td>\n",
              "    </tr>\n",
              "    <tr>\n",
              "      <th>4</th>\n",
              "      <td>53</td>\n",
              "    </tr>\n",
              "    <tr>\n",
              "      <th>8</th>\n",
              "      <td>18</td>\n",
              "    </tr>\n",
              "    <tr>\n",
              "      <th>3</th>\n",
              "      <td>10</td>\n",
              "    </tr>\n",
              "  </tbody>\n",
              "</table>\n",
              "</div><br><label><b>dtype:</b> int64</label>"
            ]
          },
          "metadata": {},
          "execution_count": 4
        }
      ]
    },
    {
      "cell_type": "code",
      "source": [
        "# prompt: summary do dataframe\n",
        "\n",
        "# Display a summary of the DataFrame\n",
        "print(data.info())\n",
        "print(data.describe())"
      ],
      "metadata": {
        "colab": {
          "base_uri": "https://localhost:8080/"
        },
        "id": "9R8ntyxA6yJI",
        "outputId": "f6041137-8441-4964-eb89-c6edfad4960a"
      },
      "execution_count": null,
      "outputs": [
        {
          "output_type": "stream",
          "name": "stdout",
          "text": [
            "<class 'pandas.core.frame.DataFrame'>\n",
            "RangeIndex: 1599 entries, 0 to 1598\n",
            "Data columns (total 12 columns):\n",
            " #   Column                    Non-Null Count  Dtype  \n",
            "---  ------                    --------------  -----  \n",
            " 0   acidez_fixa               1599 non-null   float64\n",
            " 1   acidez_volatil            1599 non-null   float64\n",
            " 2   acido_citrico             1599 non-null   float64\n",
            " 3   acucar_residual           1599 non-null   float64\n",
            " 4   cloretos                  1599 non-null   float64\n",
            " 5   dioxido_de_enxofre_livre  1599 non-null   float64\n",
            " 6   dioxido_de_enxofre_total  1599 non-null   float64\n",
            " 7   densidade                 1599 non-null   float64\n",
            " 8   pH                        1599 non-null   float64\n",
            " 9   sulfatos                  1599 non-null   float64\n",
            " 10  alcool                    1599 non-null   float64\n",
            " 11  score_qualidade_vinho     1599 non-null   int64  \n",
            "dtypes: float64(11), int64(1)\n",
            "memory usage: 150.0 KB\n",
            "None\n",
            "       acidez_fixa  acidez_volatil  acido_citrico  acucar_residual  \\\n",
            "count  1599.000000     1599.000000    1599.000000      1599.000000   \n",
            "mean      8.319637        0.527821       0.270976         2.538806   \n",
            "std       1.741096        0.179060       0.194801         1.409928   \n",
            "min       4.600000        0.120000       0.000000         0.900000   \n",
            "25%       7.100000        0.390000       0.090000         1.900000   \n",
            "50%       7.900000        0.520000       0.260000         2.200000   \n",
            "75%       9.200000        0.640000       0.420000         2.600000   \n",
            "max      15.900000        1.580000       1.000000        15.500000   \n",
            "\n",
            "          cloretos  dioxido_de_enxofre_livre  dioxido_de_enxofre_total  \\\n",
            "count  1599.000000               1599.000000               1599.000000   \n",
            "mean      0.087467                 15.874922                 46.467792   \n",
            "std       0.047065                 10.460157                 32.895324   \n",
            "min       0.012000                  1.000000                  6.000000   \n",
            "25%       0.070000                  7.000000                 22.000000   \n",
            "50%       0.079000                 14.000000                 38.000000   \n",
            "75%       0.090000                 21.000000                 62.000000   \n",
            "max       0.611000                 72.000000                289.000000   \n",
            "\n",
            "         densidade           pH     sulfatos       alcool  \\\n",
            "count  1599.000000  1599.000000  1599.000000  1599.000000   \n",
            "mean      0.996747     3.311113     0.658149    10.422983   \n",
            "std       0.001887     0.154386     0.169507     1.065668   \n",
            "min       0.990070     2.740000     0.330000     8.400000   \n",
            "25%       0.995600     3.210000     0.550000     9.500000   \n",
            "50%       0.996750     3.310000     0.620000    10.200000   \n",
            "75%       0.997835     3.400000     0.730000    11.100000   \n",
            "max       1.003690     4.010000     2.000000    14.900000   \n",
            "\n",
            "       score_qualidade_vinho  \n",
            "count            1599.000000  \n",
            "mean                5.636023  \n",
            "std                 0.807569  \n",
            "min                 3.000000  \n",
            "25%                 5.000000  \n",
            "50%                 6.000000  \n",
            "75%                 6.000000  \n",
            "max                 8.000000  \n"
          ]
        }
      ]
    },
    {
      "cell_type": "code",
      "source": [
        "#normalizando o score\n",
        "from sklearn.preprocessing import MinMaxScaler\n",
        "\n",
        "scaler = MinMaxScaler()\n",
        "data['score_qualidade_vinho_norm'] = scaler.fit_transform(data[['score_qualidade_vinho']])\n",
        "\n",
        "print(data[['score_qualidade_vinho', 'score_qualidade_vinho_norm']].head())"
      ],
      "metadata": {
        "colab": {
          "base_uri": "https://localhost:8080/"
        },
        "id": "x9z3JygeB6Wu",
        "outputId": "f65c0dfb-fd75-4c0e-eb52-6d8a4d749dd6"
      },
      "execution_count": null,
      "outputs": [
        {
          "output_type": "stream",
          "name": "stdout",
          "text": [
            "   score_qualidade_vinho  score_qualidade_vinho_norm\n",
            "0                      5                         0.4\n",
            "1                      5                         0.4\n",
            "2                      5                         0.4\n",
            "3                      6                         0.6\n",
            "4                      5                         0.4\n"
          ]
        }
      ]
    },
    {
      "cell_type": "code",
      "source": [
        "X = data.iloc[:,0:-1].astype(float)\n",
        "Y = data.iloc[:,-1].astype(float)"
      ],
      "metadata": {
        "id": "dCq_6BmbQEmg"
      },
      "execution_count": null,
      "outputs": []
    },
    {
      "cell_type": "code",
      "source": [
        "# separação em treino e teste\n",
        "X_train, X_test, Y_train, Y_test = train_test_split(X, Y, test_size=0.25)"
      ],
      "metadata": {
        "id": "uqPG-TYhNA5y"
      },
      "execution_count": null,
      "outputs": []
    },
    {
      "cell_type": "code",
      "source": [
        "# criação do modelo - 3 camadas\n",
        "i = tf.keras.layers.Input(shape=(12, ))\n",
        "x = tf.keras.layers.Dense(50, activation='relu')(i)\n",
        "x = tf.keras.layers.Dense(1)(x)\n",
        "\n",
        "model = tf.keras.models.Model(i, x)"
      ],
      "metadata": {
        "id": "jxIDc2ZaNFOg"
      },
      "execution_count": null,
      "outputs": []
    },
    {
      "cell_type": "code",
      "source": [
        "def rmse(y_true, y_pred):\n",
        "  return backend.sqrt(backend.mean( backend.square(y_pred - y_true), axis=-1) )\n",
        "\n",
        "def r2(y_true, y_pred):\n",
        "  media = backend.mean(y_true)\n",
        "  num   = backend.sum (backend.square(y_true - y_pred))\n",
        "  den   = backend.sum (backend.square(y_true - media))\n",
        "  return (1.0 - num/den)"
      ],
      "metadata": {
        "id": "Xa_QQNYsfvOs"
      },
      "execution_count": null,
      "outputs": []
    },
    {
      "cell_type": "code",
      "source": [
        "#compilar o modelo\n",
        "#optimizer = tf.keras.optimizers.Adam(learning_rate=0.01)\n",
        "#optimizer=tf.keras.optimizers.SGD(learning_rate=0.2, momentum=0.5)\n",
        "optimizer=tf.keras.optimizers.RMSprop(0.01)\n",
        "\n",
        "model.compile(optimizer=optimizer, loss='mse', metrics=[rmse, r2])"
      ],
      "metadata": {
        "id": "SrsUJckfTeY8"
      },
      "execution_count": null,
      "outputs": []
    },
    {
      "cell_type": "code",
      "source": [
        "#early stop para as épocas\n",
        "\n",
        "early_stop = tf.keras.callbacks.EarlyStopping(monitor='val_loss',\n",
        "                                              patience=10,\n",
        "                                              restore_best_weights=True)"
      ],
      "metadata": {
        "id": "yxN7-bnJg6kG"
      },
      "execution_count": null,
      "outputs": []
    },
    {
      "cell_type": "code",
      "source": [
        "r = model.fit(X_train, Y_train,\n",
        "              epochs=500,\n",
        "              validation_data=(X_test, Y_test),\n",
        "              callbacks=[early_stop])"
      ],
      "metadata": {
        "colab": {
          "base_uri": "https://localhost:8080/"
        },
        "id": "dVIPes50hZuU",
        "outputId": "c318e667-41ef-4034-e48c-6c59272a11c1"
      },
      "execution_count": null,
      "outputs": [
        {
          "output_type": "stream",
          "name": "stdout",
          "text": [
            "Epoch 1/500\n",
            "\u001b[1m38/38\u001b[0m \u001b[32m━━━━━━━━━━━━━━━━━━━━\u001b[0m\u001b[37m\u001b[0m \u001b[1m2s\u001b[0m 28ms/step - loss: 33.2854 - r2: -1236.7473 - rmse: 3.4978 - val_loss: 0.4207 - val_r2: -13.7954 - val_rmse: 0.4644\n",
            "Epoch 2/500\n",
            "\u001b[1m38/38\u001b[0m \u001b[32m━━━━━━━━━━━━━━━━━━━━\u001b[0m\u001b[37m\u001b[0m \u001b[1m1s\u001b[0m 4ms/step - loss: 5.1456 - r2: -232.8284 - rmse: 1.7059 - val_loss: 1.1951 - val_r2: -40.8441 - val_rmse: 0.9586\n",
            "Epoch 3/500\n",
            "\u001b[1m38/38\u001b[0m \u001b[32m━━━━━━━━━━━━━━━━━━━━\u001b[0m\u001b[37m\u001b[0m \u001b[1m0s\u001b[0m 5ms/step - loss: 4.4639 - r2: -214.4364 - rmse: 1.7490 - val_loss: 0.3557 - val_r2: -11.5618 - val_rmse: 0.5306\n",
            "Epoch 4/500\n",
            "\u001b[1m38/38\u001b[0m \u001b[32m━━━━━━━━━━━━━━━━━━━━\u001b[0m\u001b[37m\u001b[0m \u001b[1m0s\u001b[0m 5ms/step - loss: 3.9741 - r2: -247.3563 - rmse: 1.2240 - val_loss: 0.8685 - val_r2: -31.0890 - val_rmse: 0.8242\n",
            "Epoch 5/500\n",
            "\u001b[1m38/38\u001b[0m \u001b[32m━━━━━━━━━━━━━━━━━━━━\u001b[0m\u001b[37m\u001b[0m \u001b[1m0s\u001b[0m 4ms/step - loss: 1.9830 - r2: -86.8557 - rmse: 1.1123 - val_loss: 0.7684 - val_r2: -27.2645 - val_rmse: 0.7556\n",
            "Epoch 6/500\n",
            "\u001b[1m38/38\u001b[0m \u001b[32m━━━━━━━━━━━━━━━━━━━━\u001b[0m\u001b[37m\u001b[0m \u001b[1m0s\u001b[0m 5ms/step - loss: 2.1904 - r2: -107.2613 - rmse: 0.9230 - val_loss: 0.1323 - val_r2: -3.5821 - val_rmse: 0.2990\n",
            "Epoch 7/500\n",
            "\u001b[1m38/38\u001b[0m \u001b[32m━━━━━━━━━━━━━━━━━━━━\u001b[0m\u001b[37m\u001b[0m \u001b[1m0s\u001b[0m 5ms/step - loss: 1.0075 - r2: -45.7211 - rmse: 0.7610 - val_loss: 0.0420 - val_r2: -0.5294 - val_rmse: 0.1702\n",
            "Epoch 8/500\n",
            "\u001b[1m38/38\u001b[0m \u001b[32m━━━━━━━━━━━━━━━━━━━━\u001b[0m\u001b[37m\u001b[0m \u001b[1m0s\u001b[0m 3ms/step - loss: 0.7990 - r2: -35.5038 - rmse: 0.5806 - val_loss: 0.9907 - val_r2: -34.7173 - val_rmse: 0.8073\n",
            "Epoch 9/500\n",
            "\u001b[1m38/38\u001b[0m \u001b[32m━━━━━━━━━━━━━━━━━━━━\u001b[0m\u001b[37m\u001b[0m \u001b[1m0s\u001b[0m 3ms/step - loss: 0.6037 - r2: -24.9008 - rmse: 0.5633 - val_loss: 0.2941 - val_r2: -9.5196 - val_rmse: 0.5036\n",
            "Epoch 10/500\n",
            "\u001b[1m38/38\u001b[0m \u001b[32m━━━━━━━━━━━━━━━━━━━━\u001b[0m\u001b[37m\u001b[0m \u001b[1m0s\u001b[0m 2ms/step - loss: 0.3232 - r2: -15.8128 - rmse: 0.3975 - val_loss: 0.0660 - val_r2: -1.2906 - val_rmse: 0.2047\n",
            "Epoch 11/500\n",
            "\u001b[1m38/38\u001b[0m \u001b[32m━━━━━━━━━━━━━━━━━━━━\u001b[0m\u001b[37m\u001b[0m \u001b[1m0s\u001b[0m 3ms/step - loss: 0.3202 - r2: -14.4546 - rmse: 0.4233 - val_loss: 0.2568 - val_r2: -8.1137 - val_rmse: 0.4447\n",
            "Epoch 12/500\n",
            "\u001b[1m38/38\u001b[0m \u001b[32m━━━━━━━━━━━━━━━━━━━━\u001b[0m\u001b[37m\u001b[0m \u001b[1m0s\u001b[0m 3ms/step - loss: 0.2955 - r2: -10.5048 - rmse: 0.3731 - val_loss: 0.0630 - val_r2: -1.2567 - val_rmse: 0.2074\n",
            "Epoch 13/500\n",
            "\u001b[1m38/38\u001b[0m \u001b[32m━━━━━━━━━━━━━━━━━━━━\u001b[0m\u001b[37m\u001b[0m \u001b[1m0s\u001b[0m 3ms/step - loss: 0.1247 - r2: -4.7180 - rmse: 0.2199 - val_loss: 0.2831 - val_r2: -9.0469 - val_rmse: 0.4529\n",
            "Epoch 14/500\n",
            "\u001b[1m38/38\u001b[0m \u001b[32m━━━━━━━━━━━━━━━━━━━━\u001b[0m\u001b[37m\u001b[0m \u001b[1m0s\u001b[0m 3ms/step - loss: 0.1184 - r2: -4.7992 - rmse: 0.2575 - val_loss: 0.4801 - val_r2: -16.3316 - val_rmse: 0.5659\n",
            "Epoch 15/500\n",
            "\u001b[1m38/38\u001b[0m \u001b[32m━━━━━━━━━━━━━━━━━━━━\u001b[0m\u001b[37m\u001b[0m \u001b[1m0s\u001b[0m 3ms/step - loss: 0.1086 - r2: -3.7523 - rmse: 0.1998 - val_loss: 0.0836 - val_r2: -1.9376 - val_rmse: 0.2430\n",
            "Epoch 16/500\n",
            "\u001b[1m38/38\u001b[0m \u001b[32m━━━━━━━━━━━━━━━━━━━━\u001b[0m\u001b[37m\u001b[0m \u001b[1m0s\u001b[0m 3ms/step - loss: 0.0730 - r2: -2.4156 - rmse: 0.1933 - val_loss: 0.0367 - val_r2: -0.3123 - val_rmse: 0.1540\n",
            "Epoch 17/500\n",
            "\u001b[1m38/38\u001b[0m \u001b[32m━━━━━━━━━━━━━━━━━━━━\u001b[0m\u001b[37m\u001b[0m \u001b[1m0s\u001b[0m 3ms/step - loss: 0.0518 - r2: -1.3180 - rmse: 0.1675 - val_loss: 0.0145 - val_r2: 0.4961 - val_rmse: 0.0936\n",
            "Epoch 18/500\n",
            "\u001b[1m38/38\u001b[0m \u001b[32m━━━━━━━━━━━━━━━━━━━━\u001b[0m\u001b[37m\u001b[0m \u001b[1m0s\u001b[0m 3ms/step - loss: 0.0321 - r2: -0.5519 - rmse: 0.1329 - val_loss: 0.0676 - val_r2: -1.3584 - val_rmse: 0.2278\n",
            "Epoch 19/500\n",
            "\u001b[1m38/38\u001b[0m \u001b[32m━━━━━━━━━━━━━━━━━━━━\u001b[0m\u001b[37m\u001b[0m \u001b[1m0s\u001b[0m 3ms/step - loss: 0.0370 - r2: -0.8826 - rmse: 0.1394 - val_loss: 0.0296 - val_r2: -0.0231 - val_rmse: 0.1398\n",
            "Epoch 20/500\n",
            "\u001b[1m38/38\u001b[0m \u001b[32m━━━━━━━━━━━━━━━━━━━━\u001b[0m\u001b[37m\u001b[0m \u001b[1m0s\u001b[0m 4ms/step - loss: 0.0235 - r2: -0.0380 - rmse: 0.1208 - val_loss: 0.0129 - val_r2: 0.5659 - val_rmse: 0.0873\n",
            "Epoch 21/500\n",
            "\u001b[1m38/38\u001b[0m \u001b[32m━━━━━━━━━━━━━━━━━━━━\u001b[0m\u001b[37m\u001b[0m \u001b[1m0s\u001b[0m 3ms/step - loss: 0.0206 - r2: 0.1706 - rmse: 0.1093 - val_loss: 0.0197 - val_r2: 0.3261 - val_rmse: 0.1139\n",
            "Epoch 22/500\n",
            "\u001b[1m38/38\u001b[0m \u001b[32m━━━━━━━━━━━━━━━━━━━━\u001b[0m\u001b[37m\u001b[0m \u001b[1m0s\u001b[0m 3ms/step - loss: 0.0223 - r2: 0.0448 - rmse: 0.1194 - val_loss: 0.0148 - val_r2: 0.4952 - val_rmse: 0.0986\n",
            "Epoch 23/500\n",
            "\u001b[1m38/38\u001b[0m \u001b[32m━━━━━━━━━━━━━━━━━━━━\u001b[0m\u001b[37m\u001b[0m \u001b[1m0s\u001b[0m 3ms/step - loss: 0.0179 - r2: 0.1641 - rmse: 0.1057 - val_loss: 0.0118 - val_r2: 0.5893 - val_rmse: 0.0856\n",
            "Epoch 24/500\n",
            "\u001b[1m38/38\u001b[0m \u001b[32m━━━━━━━━━━━━━━━━━━━━\u001b[0m\u001b[37m\u001b[0m \u001b[1m0s\u001b[0m 3ms/step - loss: 0.0153 - r2: 0.3870 - rmse: 0.0958 - val_loss: 0.0836 - val_r2: -1.9472 - val_rmse: 0.2301\n",
            "Epoch 25/500\n",
            "\u001b[1m38/38\u001b[0m \u001b[32m━━━━━━━━━━━━━━━━━━━━\u001b[0m\u001b[37m\u001b[0m \u001b[1m0s\u001b[0m 3ms/step - loss: 0.0288 - r2: -0.1789 - rmse: 0.1175 - val_loss: 0.0101 - val_r2: 0.6563 - val_rmse: 0.0791\n",
            "Epoch 26/500\n",
            "\u001b[1m38/38\u001b[0m \u001b[32m━━━━━━━━━━━━━━━━━━━━\u001b[0m\u001b[37m\u001b[0m \u001b[1m0s\u001b[0m 3ms/step - loss: 0.0170 - r2: 0.2536 - rmse: 0.1050 - val_loss: 0.0086 - val_r2: 0.7022 - val_rmse: 0.0726\n",
            "Epoch 27/500\n",
            "\u001b[1m38/38\u001b[0m \u001b[32m━━━━━━━━━━━━━━━━━━━━\u001b[0m\u001b[37m\u001b[0m \u001b[1m0s\u001b[0m 3ms/step - loss: 0.0147 - r2: 0.4129 - rmse: 0.0959 - val_loss: 0.0137 - val_r2: 0.5235 - val_rmse: 0.0959\n",
            "Epoch 28/500\n",
            "\u001b[1m38/38\u001b[0m \u001b[32m━━━━━━━━━━━━━━━━━━━━\u001b[0m\u001b[37m\u001b[0m \u001b[1m0s\u001b[0m 3ms/step - loss: 0.0154 - r2: 0.3006 - rmse: 0.1010 - val_loss: 0.0067 - val_r2: 0.7732 - val_rmse: 0.0608\n",
            "Epoch 29/500\n",
            "\u001b[1m38/38\u001b[0m \u001b[32m━━━━━━━━━━━━━━━━━━━━\u001b[0m\u001b[37m\u001b[0m \u001b[1m0s\u001b[0m 3ms/step - loss: 0.0126 - r2: 0.4819 - rmse: 0.0886 - val_loss: 0.0269 - val_r2: 0.0579 - val_rmse: 0.1425\n",
            "Epoch 30/500\n",
            "\u001b[1m38/38\u001b[0m \u001b[32m━━━━━━━━━━━━━━━━━━━━\u001b[0m\u001b[37m\u001b[0m \u001b[1m0s\u001b[0m 4ms/step - loss: 0.0125 - r2: 0.4647 - rmse: 0.0876 - val_loss: 0.0062 - val_r2: 0.7872 - val_rmse: 0.0593\n",
            "Epoch 31/500\n",
            "\u001b[1m38/38\u001b[0m \u001b[32m━━━━━━━━━━━━━━━━━━━━\u001b[0m\u001b[37m\u001b[0m \u001b[1m0s\u001b[0m 3ms/step - loss: 0.0116 - r2: 0.4430 - rmse: 0.0776 - val_loss: 0.0078 - val_r2: 0.7252 - val_rmse: 0.0704\n",
            "Epoch 32/500\n",
            "\u001b[1m38/38\u001b[0m \u001b[32m━━━━━━━━━━━━━━━━━━━━\u001b[0m\u001b[37m\u001b[0m \u001b[1m0s\u001b[0m 3ms/step - loss: 0.0145 - r2: 0.3293 - rmse: 0.0988 - val_loss: 0.0047 - val_r2: 0.8396 - val_rmse: 0.0525\n",
            "Epoch 33/500\n",
            "\u001b[1m38/38\u001b[0m \u001b[32m━━━━━━━━━━━━━━━━━━━━\u001b[0m\u001b[37m\u001b[0m \u001b[1m0s\u001b[0m 3ms/step - loss: 0.0143 - r2: 0.4141 - rmse: 0.0929 - val_loss: 0.0061 - val_r2: 0.7885 - val_rmse: 0.0603\n",
            "Epoch 34/500\n",
            "\u001b[1m38/38\u001b[0m \u001b[32m━━━━━━━━━━━━━━━━━━━━\u001b[0m\u001b[37m\u001b[0m \u001b[1m0s\u001b[0m 3ms/step - loss: 0.0100 - r2: 0.5680 - rmse: 0.0788 - val_loss: 0.0077 - val_r2: 0.7306 - val_rmse: 0.0716\n",
            "Epoch 35/500\n",
            "\u001b[1m38/38\u001b[0m \u001b[32m━━━━━━━━━━━━━━━━━━━━\u001b[0m\u001b[37m\u001b[0m \u001b[1m0s\u001b[0m 3ms/step - loss: 0.0129 - r2: 0.4779 - rmse: 0.0927 - val_loss: 0.0054 - val_r2: 0.8161 - val_rmse: 0.0571\n",
            "Epoch 36/500\n",
            "\u001b[1m38/38\u001b[0m \u001b[32m━━━━━━━━━━━━━━━━━━━━\u001b[0m\u001b[37m\u001b[0m \u001b[1m0s\u001b[0m 3ms/step - loss: 0.0116 - r2: 0.5114 - rmse: 0.0864 - val_loss: 0.0050 - val_r2: 0.8283 - val_rmse: 0.0523\n",
            "Epoch 37/500\n",
            "\u001b[1m38/38\u001b[0m \u001b[32m━━━━━━━━━━━━━━━━━━━━\u001b[0m\u001b[37m\u001b[0m \u001b[1m0s\u001b[0m 2ms/step - loss: 0.0092 - r2: 0.5837 - rmse: 0.0765 - val_loss: 0.0053 - val_r2: 0.8170 - val_rmse: 0.0560\n",
            "Epoch 38/500\n",
            "\u001b[1m38/38\u001b[0m \u001b[32m━━━━━━━━━━━━━━━━━━━━\u001b[0m\u001b[37m\u001b[0m \u001b[1m0s\u001b[0m 3ms/step - loss: 0.0108 - r2: 0.5439 - rmse: 0.0788 - val_loss: 0.0048 - val_r2: 0.8342 - val_rmse: 0.0515\n",
            "Epoch 39/500\n",
            "\u001b[1m38/38\u001b[0m \u001b[32m━━━━━━━━━━━━━━━━━━━━\u001b[0m\u001b[37m\u001b[0m \u001b[1m0s\u001b[0m 4ms/step - loss: 0.0100 - r2: 0.5452 - rmse: 0.0784 - val_loss: 0.0121 - val_r2: 0.5741 - val_rmse: 0.0923\n",
            "Epoch 40/500\n",
            "\u001b[1m38/38\u001b[0m \u001b[32m━━━━━━━━━━━━━━━━━━━━\u001b[0m\u001b[37m\u001b[0m \u001b[1m0s\u001b[0m 3ms/step - loss: 0.0119 - r2: 0.4453 - rmse: 0.0902 - val_loss: 0.0082 - val_r2: 0.7115 - val_rmse: 0.0749\n",
            "Epoch 41/500\n",
            "\u001b[1m38/38\u001b[0m \u001b[32m━━━━━━━━━━━━━━━━━━━━\u001b[0m\u001b[37m\u001b[0m \u001b[1m0s\u001b[0m 3ms/step - loss: 0.0108 - r2: 0.5304 - rmse: 0.0833 - val_loss: 0.0067 - val_r2: 0.7716 - val_rmse: 0.0644\n",
            "Epoch 42/500\n",
            "\u001b[1m38/38\u001b[0m \u001b[32m━━━━━━━━━━━━━━━━━━━━\u001b[0m\u001b[37m\u001b[0m \u001b[1m0s\u001b[0m 3ms/step - loss: 0.0094 - r2: 0.6361 - rmse: 0.0748 - val_loss: 0.0055 - val_r2: 0.8123 - val_rmse: 0.0588\n"
          ]
        }
      ]
    },
    {
      "cell_type": "code",
      "source": [
        "#plotar a função de perda\n",
        "plt.plot(r.history['loss'], label='loss')\n",
        "plt.plot(r.history['val_loss'], label='val_loss')\n",
        "plt.legend()"
      ],
      "metadata": {
        "colab": {
          "base_uri": "https://localhost:8080/",
          "height": 448
        },
        "id": "mKZ8vVsRh4-H",
        "outputId": "fa04dd59-d7e5-4247-ca17-0a00448d45a9"
      },
      "execution_count": null,
      "outputs": [
        {
          "output_type": "execute_result",
          "data": {
            "text/plain": [
              "<matplotlib.legend.Legend at 0x7c51136be650>"
            ]
          },
          "metadata": {},
          "execution_count": 51
        },
        {
          "output_type": "display_data",
          "data": {
            "text/plain": [
              "<Figure size 640x480 with 1 Axes>"
            ],
            "image/png": "[encoded data removed]"
          },
          "metadata": {}
        }
      ]
    },
    {
      "cell_type": "code",
      "source": [
        "#plotar metricas\n",
        "plt.plot(r.history['rmse'], label='rmse')\n",
        "plt.plot(r.history['val_rmse'], label='val_rmse')\n",
        "plt.legend()"
      ],
      "metadata": {
        "colab": {
          "base_uri": "https://localhost:8080/",
          "height": 448
        },
        "id": "SPaZfRaqiIah",
        "outputId": "0798f1d4-a3e6-4c54-843c-4a8e1b0c0442"
      },
      "execution_count": null,
      "outputs": [
        {
          "output_type": "execute_result",
          "data": {
            "text/plain": [
              "<matplotlib.legend.Legend at 0x7c5112d6f0d0>"
            ]
          },
          "metadata": {},
          "execution_count": 52
        },
        {
          "output_type": "display_data",
          "data": {
            "text/plain": [
              "<Figure size 640x480 with 1 Axes>"
            ],
            "image/png": "[encoded data removed]"
          },
          "metadata": {}
        }
      ]
    },
    {
      "cell_type": "code",
      "source": [
        "#plotar variação r2\n",
        "plt.plot(r.history['r2'], label='r2')\n",
        "plt.plot(r.history['val_r2'], label='val_r2')\n",
        "plt.legend()"
      ],
      "metadata": {
        "colab": {
          "base_uri": "https://localhost:8080/",
          "height": 448
        },
        "id": "WJBqEwr4iPHR",
        "outputId": "bc2c8c47-df75-48dc-ef21-d888a35ec76c"
      },
      "execution_count": null,
      "outputs": [
        {
          "output_type": "execute_result",
          "data": {
            "text/plain": [
              "<matplotlib.legend.Legend at 0x7c5112c02080>"
            ]
          },
          "metadata": {},
          "execution_count": 53
        },
        {
          "output_type": "display_data",
          "data": {
            "text/plain": [
              "<Figure size 640x480 with 1 Axes>"
            ],
            "image/png": "[encoded data removed]"
          },
          "metadata": {}
        }
      ]
    },
    {
      "cell_type": "code",
      "source": [
        "y_pred = model.predict(X_test).flatten()\n",
        "mse  = mean_squared_error(Y_test, y_pred)\n",
        "rmse = sqrt(mse)\n",
        "r2   = r2_score(Y_test, y_pred)\n",
        "print(\"mse     = \", mse)\n",
        "print(\"rmse    = \", rmse)\n",
        "print(\"r2      = \", r2)"
      ],
      "metadata": {
        "colab": {
          "base_uri": "https://localhost:8080/"
        },
        "id": "RIgxoWTItt1z",
        "outputId": "b0fade45-05dd-47f5-ae5c-7baf56d8ff54"
      },
      "execution_count": null,
      "outputs": [
        {
          "output_type": "stream",
          "name": "stdout",
          "text": [
            "\u001b[1m13/13\u001b[0m \u001b[32m━━━━━━━━━━━━━━━━━━━━\u001b[0m\u001b[37m\u001b[0m \u001b[1m0s\u001b[0m 8ms/step\n",
            "mse     =  0.004714574471009854\n",
            "rmse    =  0.0686627589819245\n",
            "r2      =  0.8442544193779574\n"
          ]
        }
      ]
    }
  ]
}