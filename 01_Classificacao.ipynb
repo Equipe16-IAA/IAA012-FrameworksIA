{
  "cells": [
    {
      "cell_type": "markdown",
      "metadata": {
        "id": "view-in-github",
        "colab_type": "text"
      },
      "source": [
        "<a href=\"https://colab.research.google.com/github/Equipe16-IAA/IAA012-FrameworksIA/blob/main/01_Classificacao.ipynb\" target=\"_parent\"><img src=\"https://colab.research.google.com/assets/colab-badge.svg\" alt=\"Open In Colab\"/></a>"
      ]
    },
    {
      "cell_type": "markdown",
      "metadata": {
        "id": "uRp8mmEtSBfE"
      },
      "source": [
        "# 01 - Classificação\n",
        "\n",
        "---"
      ]
    },
    {
      "cell_type": "markdown",
      "metadata": {
        "id": "mt9m3y5HYu-d"
      },
      "source": [
        "# Exercício 1: Fashion MNIST"
      ]
    },
    {
      "cell_type": "markdown",
      "metadata": {
        "id": "tZcR5EoqS-UZ"
      },
      "source": [
        "#### 1. Importação das bibliotecas"
      ]
    },
    {
      "cell_type": "code",
      "execution_count": 1,
      "metadata": {
        "id": "KWuy2OXnSGL5"
      },
      "outputs": [],
      "source": [
        "import tensorflow as tf\n",
        "import matplotlib.pyplot as plt\n",
        "import numpy as np\n",
        "\n",
        "from sklearn.model_selection import train_test_split\n",
        "from sklearn.preprocessing import StandardScaler\n",
        "from mlxtend.plotting import plot_confusion_matrix\n",
        "from sklearn.metrics import confusion_matrix"
      ]
    },
    {
      "cell_type": "markdown",
      "metadata": {
        "id": "Bd1j-okITCSa"
      },
      "source": [
        "---\n",
        "#### 2. Importação dos dados"
      ]
    },
    {
      "cell_type": "code",
      "execution_count": 7,
      "metadata": {
        "id": "j4obG2xzS5YK",
        "colab": {
          "base_uri": "https://localhost:8080/"
        },
        "outputId": "c937bcb8-7240-40bf-dd71-1a20ba77c115"
      },
      "outputs": [
        {
          "output_type": "stream",
          "name": "stdout",
          "text": [
            "(array([[[0, 0, 0, ..., 0, 0, 0],\n",
            "        [0, 0, 0, ..., 0, 0, 0],\n",
            "        [0, 0, 0, ..., 0, 0, 0],\n",
            "        ...,\n",
            "        [0, 0, 0, ..., 0, 0, 0],\n",
            "        [0, 0, 0, ..., 0, 0, 0],\n",
            "        [0, 0, 0, ..., 0, 0, 0]],\n",
            "\n",
            "       [[0, 0, 0, ..., 0, 0, 0],\n",
            "        [0, 0, 0, ..., 0, 0, 0],\n",
            "        [0, 0, 0, ..., 0, 0, 0],\n",
            "        ...,\n",
            "        [0, 0, 0, ..., 0, 0, 0],\n",
            "        [0, 0, 0, ..., 0, 0, 0],\n",
            "        [0, 0, 0, ..., 0, 0, 0]],\n",
            "\n",
            "       [[0, 0, 0, ..., 0, 0, 0],\n",
            "        [0, 0, 0, ..., 0, 0, 0],\n",
            "        [0, 0, 0, ..., 0, 0, 0],\n",
            "        ...,\n",
            "        [0, 0, 0, ..., 0, 0, 0],\n",
            "        [0, 0, 0, ..., 0, 0, 0],\n",
            "        [0, 0, 0, ..., 0, 0, 0]],\n",
            "\n",
            "       ...,\n",
            "\n",
            "       [[0, 0, 0, ..., 0, 0, 0],\n",
            "        [0, 0, 0, ..., 0, 0, 0],\n",
            "        [0, 0, 0, ..., 0, 0, 0],\n",
            "        ...,\n",
            "        [0, 0, 0, ..., 0, 0, 0],\n",
            "        [0, 0, 0, ..., 0, 0, 0],\n",
            "        [0, 0, 0, ..., 0, 0, 0]],\n",
            "\n",
            "       [[0, 0, 0, ..., 0, 0, 0],\n",
            "        [0, 0, 0, ..., 0, 0, 0],\n",
            "        [0, 0, 0, ..., 0, 0, 0],\n",
            "        ...,\n",
            "        [0, 0, 0, ..., 0, 0, 0],\n",
            "        [0, 0, 0, ..., 0, 0, 0],\n",
            "        [0, 0, 0, ..., 0, 0, 0]],\n",
            "\n",
            "       [[0, 0, 0, ..., 0, 0, 0],\n",
            "        [0, 0, 0, ..., 0, 0, 0],\n",
            "        [0, 0, 0, ..., 0, 0, 0],\n",
            "        ...,\n",
            "        [0, 0, 0, ..., 0, 0, 0],\n",
            "        [0, 0, 0, ..., 0, 0, 0],\n",
            "        [0, 0, 0, ..., 0, 0, 0]]], dtype=uint8), array([9, 0, 0, ..., 3, 0, 5], dtype=uint8))\n"
          ]
        }
      ],
      "source": [
        "from tensorflow import keras\n",
        "from keras.datasets import fashion_mnist\n",
        "\n",
        "data = fashion_mnist.load_data()\n",
        "type(data)\n",
        "\n",
        "print(data[0])"
      ]
    },
    {
      "cell_type": "markdown",
      "metadata": {
        "id": "5BlpZnjcTSm_"
      },
      "source": [
        "---\n",
        "#### 3. Visualização dos dados"
      ]
    },
    {
      "cell_type": "code",
      "execution_count": null,
      "metadata": {
        "colab": {
          "base_uri": "https://localhost:8080/"
        },
        "id": "Dfxhnz0QTYZM",
        "outputId": "290459ad-90ac-41ed-e2d6-f6d3e54ef7ae"
      },
      "outputs": [
        {
          "output_type": "execute_result",
          "data": {
            "text/plain": [
              "(569, 30)"
            ]
          },
          "metadata": {},
          "execution_count": 3
        }
      ],
      "source": [
        "# Número de linhas e colunas\n",
        "data.data.shape"
      ]
    },
    {
      "cell_type": "code",
      "execution_count": null,
      "metadata": {
        "colab": {
          "base_uri": "https://localhost:8080/"
        },
        "id": "1lpvei9nTeSh",
        "outputId": "b3aea0ec-838d-43f2-fcd2-dfa516d14903"
      },
      "outputs": [
        {
          "output_type": "execute_result",
          "data": {
            "text/plain": [
              "array(['malignant', 'benign'], dtype='<U9')"
            ]
          },
          "metadata": {},
          "execution_count": 4
        }
      ],
      "source": [
        "# Nomes das categorias\n",
        "data.target_names"
      ]
    },
    {
      "cell_type": "code",
      "execution_count": null,
      "metadata": {
        "colab": {
          "base_uri": "https://localhost:8080/"
        },
        "id": "5Kzuz8nwTeun",
        "outputId": "931b3664-840c-47ea-8d79-1ded4999db1a"
      },
      "outputs": [
        {
          "output_type": "execute_result",
          "data": {
            "text/plain": [
              "array([0, 0, 0, 0, 0, 0, 0, 0, 0, 0, 0, 0, 0, 0, 0, 0, 0, 0, 0, 1, 1, 1,\n",
              "       0, 0, 0, 0, 0, 0, 0, 0, 0, 0, 0, 0, 0, 0, 0, 1, 0, 0, 0, 0, 0, 0,\n",
              "       0, 0, 1, 0, 1, 1, 1, 1, 1, 0, 0, 1, 0, 0, 1, 1, 1, 1, 0, 1, 0, 0,\n",
              "       1, 1, 1, 1, 0, 1, 0, 0, 1, 0, 1, 0, 0, 1, 1, 1, 0, 0, 1, 0, 0, 0,\n",
              "       1, 1, 1, 0, 1, 1, 0, 0, 1, 1, 1, 0, 0, 1, 1, 1, 1, 0, 1, 1, 0, 1,\n",
              "       1, 1, 1, 1, 1, 1, 1, 0, 0, 0, 1, 0, 0, 1, 1, 1, 0, 0, 1, 0, 1, 0,\n",
              "       0, 1, 0, 0, 1, 1, 0, 1, 1, 0, 1, 1, 1, 1, 0, 1, 1, 1, 1, 1, 1, 1,\n",
              "       1, 1, 0, 1, 1, 1, 1, 0, 0, 1, 0, 1, 1, 0, 0, 1, 1, 0, 0, 1, 1, 1,\n",
              "       1, 0, 1, 1, 0, 0, 0, 1, 0, 1, 0, 1, 1, 1, 0, 1, 1, 0, 0, 1, 0, 0,\n",
              "       0, 0, 1, 0, 0, 0, 1, 0, 1, 0, 1, 1, 0, 1, 0, 0, 0, 0, 1, 1, 0, 0,\n",
              "       1, 1, 1, 0, 1, 1, 1, 1, 1, 0, 0, 1, 1, 0, 1, 1, 0, 0, 1, 0, 1, 1,\n",
              "       1, 1, 0, 1, 1, 1, 1, 1, 0, 1, 0, 0, 0, 0, 0, 0, 0, 0, 0, 0, 0, 0,\n",
              "       0, 0, 1, 1, 1, 1, 1, 1, 0, 1, 0, 1, 1, 0, 1, 1, 0, 1, 0, 0, 1, 1,\n",
              "       1, 1, 1, 1, 1, 1, 1, 1, 1, 1, 1, 0, 1, 1, 0, 1, 0, 1, 1, 1, 1, 1,\n",
              "       1, 1, 1, 1, 1, 1, 1, 1, 1, 0, 1, 1, 1, 0, 1, 0, 1, 1, 1, 1, 0, 0,\n",
              "       0, 1, 1, 1, 1, 0, 1, 0, 1, 0, 1, 1, 1, 0, 1, 1, 1, 1, 1, 1, 1, 0,\n",
              "       0, 0, 1, 1, 1, 1, 1, 1, 1, 1, 1, 1, 1, 0, 0, 1, 0, 0, 0, 1, 0, 0,\n",
              "       1, 1, 1, 1, 1, 0, 1, 1, 1, 1, 1, 0, 1, 1, 1, 0, 1, 1, 0, 0, 1, 1,\n",
              "       1, 1, 1, 1, 0, 1, 1, 1, 1, 1, 1, 1, 0, 1, 1, 1, 1, 1, 0, 1, 1, 0,\n",
              "       1, 1, 1, 1, 1, 1, 1, 1, 1, 1, 1, 1, 0, 1, 0, 0, 1, 0, 1, 1, 1, 1,\n",
              "       1, 0, 1, 1, 0, 1, 0, 1, 1, 0, 1, 0, 1, 1, 1, 1, 1, 1, 1, 1, 0, 0,\n",
              "       1, 1, 1, 1, 1, 1, 0, 1, 1, 1, 1, 1, 1, 1, 1, 1, 1, 0, 1, 1, 1, 1,\n",
              "       1, 1, 1, 0, 1, 0, 1, 1, 0, 1, 1, 1, 1, 1, 0, 0, 1, 0, 1, 0, 1, 1,\n",
              "       1, 1, 1, 0, 1, 1, 0, 1, 0, 1, 0, 0, 1, 1, 1, 0, 1, 1, 1, 1, 1, 1,\n",
              "       1, 1, 1, 1, 1, 0, 1, 0, 0, 1, 1, 1, 1, 1, 1, 1, 1, 1, 1, 1, 1, 1,\n",
              "       1, 1, 1, 1, 1, 1, 1, 1, 1, 1, 1, 1, 0, 0, 0, 0, 0, 0, 1])"
            ]
          },
          "metadata": {},
          "execution_count": 5
        }
      ],
      "source": [
        "# Dados em array (valores booleanos)\n",
        "data.target"
      ]
    },
    {
      "cell_type": "code",
      "execution_count": null,
      "metadata": {
        "colab": {
          "base_uri": "https://localhost:8080/"
        },
        "id": "aAuSXXAmTpun",
        "outputId": "5993d6a2-1506-43dc-92b7-cbcba71d90f0"
      },
      "outputs": [
        {
          "output_type": "execute_result",
          "data": {
            "text/plain": [
              "array(['mean radius', 'mean texture', 'mean perimeter', 'mean area',\n",
              "       'mean smoothness', 'mean compactness', 'mean concavity',\n",
              "       'mean concave points', 'mean symmetry', 'mean fractal dimension',\n",
              "       'radius error', 'texture error', 'perimeter error', 'area error',\n",
              "       'smoothness error', 'compactness error', 'concavity error',\n",
              "       'concave points error', 'symmetry error',\n",
              "       'fractal dimension error', 'worst radius', 'worst texture',\n",
              "       'worst perimeter', 'worst area', 'worst smoothness',\n",
              "       'worst compactness', 'worst concavity', 'worst concave points',\n",
              "       'worst symmetry', 'worst fractal dimension'], dtype='<U23')"
            ]
          },
          "metadata": {},
          "execution_count": 6
        }
      ],
      "source": [
        "# Nomes dos campos\n",
        "data.feature_names"
      ]
    },
    {
      "cell_type": "markdown",
      "metadata": {
        "id": "8Qwy0cMPUKyt"
      },
      "source": [
        "#### 4. Separação da base em Treino e Teste: 75%-25%"
      ]
    },
    {
      "cell_type": "code",
      "execution_count": null,
      "metadata": {
        "id": "06C55og4UKRG"
      },
      "outputs": [],
      "source": [
        "# Criando as variáveis de treino e teste\n",
        "X_train, X_test, Y_train, Y_test = train_test_split(data.data, data.target, test_size=0.25)"
      ]
    },
    {
      "cell_type": "code",
      "execution_count": null,
      "metadata": {
        "id": "mDmE7FOLUKVr"
      },
      "outputs": [],
      "source": [
        "# Separando linhas e colunas da variável X_train em outras duas variáveis: N - Nº de linhas e D - - Nº de colunas\n",
        "N, D = X_train.shape"
      ]
    },
    {
      "cell_type": "markdown",
      "metadata": {
        "id": "8Ddfpp41VdOT"
      },
      "source": [
        "#### 5. Pré-processamento"
      ]
    },
    {
      "cell_type": "code",
      "execution_count": null,
      "metadata": {
        "id": "hDgX4V1WVjU9"
      },
      "outputs": [],
      "source": [
        "scaler = StandardScaler()\n",
        "X_train = scaler.fit_transform(X_train)\n",
        "X_test = scaler.transform(X_test)"
      ]
    },
    {
      "cell_type": "markdown",
      "metadata": {
        "id": "FIqmy9lcVtmn"
      },
      "source": [
        "#### 6. Criação do Modelo"
      ]
    },
    {
      "cell_type": "code",
      "execution_count": null,
      "metadata": {
        "id": "bPtYSSGtVrxq"
      },
      "outputs": [],
      "source": [
        "model = tf.keras.models.Sequential(  [\n",
        "\ttf.keras.layers.Input(shape=(D,)),\n",
        "\ttf.keras.layers.Dense(1, activation='sigmoid')\n",
        "]  )"
      ]
    },
    {
      "cell_type": "markdown",
      "metadata": {
        "id": "bNoGRlYpYOyc"
      },
      "source": [
        "#### 7. Compilação do Modelo"
      ]
    },
    {
      "cell_type": "code",
      "execution_count": null,
      "metadata": {
        "id": "A7B4iqrWYUku"
      },
      "outputs": [],
      "source": [
        "model.compile(optimizer='adam',\n",
        "              loss='binary_crossentropy',\n",
        "              metrics=['accuracy'])"
      ]
    },
    {
      "cell_type": "markdown",
      "metadata": {
        "id": "f41Q4q-DYVyA"
      },
      "source": [
        "#### 8. Treinamento do Modelo"
      ]
    },
    {
      "cell_type": "code",
      "execution_count": null,
      "metadata": {
        "colab": {
          "base_uri": "https://localhost:8080/"
        },
        "id": "NQyPB4lIYd1N",
        "outputId": "f39493fa-43cf-4e77-ddc9-07357a76dc72"
      },
      "outputs": [
        {
          "output_type": "stream",
          "name": "stdout",
          "text": [
            "Epoch 1/100\n",
            "14/14 [==============================] - 6s 82ms/step - loss: 0.9474 - accuracy: 0.3662 - val_loss: 0.8723 - val_accuracy: 0.4615\n",
            "Epoch 2/100\n",
            "14/14 [==============================] - 0s 15ms/step - loss: 0.8400 - accuracy: 0.4437 - val_loss: 0.7730 - val_accuracy: 0.5175\n",
            "Epoch 3/100\n",
            "14/14 [==============================] - 0s 22ms/step - loss: 0.7446 - accuracy: 0.5305 - val_loss: 0.6922 - val_accuracy: 0.6014\n",
            "Epoch 4/100\n",
            "14/14 [==============================] - 0s 22ms/step - loss: 0.6659 - accuracy: 0.6197 - val_loss: 0.6236 - val_accuracy: 0.6853\n",
            "Epoch 5/100\n",
            "14/14 [==============================] - 0s 17ms/step - loss: 0.5998 - accuracy: 0.6854 - val_loss: 0.5671 - val_accuracy: 0.7622\n",
            "Epoch 6/100\n",
            "14/14 [==============================] - 0s 13ms/step - loss: 0.5434 - accuracy: 0.7300 - val_loss: 0.5216 - val_accuracy: 0.8042\n",
            "Epoch 7/100\n",
            "14/14 [==============================] - 0s 19ms/step - loss: 0.4977 - accuracy: 0.7864 - val_loss: 0.4830 - val_accuracy: 0.8462\n",
            "Epoch 8/100\n",
            "14/14 [==============================] - 0s 20ms/step - loss: 0.4586 - accuracy: 0.8146 - val_loss: 0.4500 - val_accuracy: 0.8671\n",
            "Epoch 9/100\n",
            "14/14 [==============================] - 0s 34ms/step - loss: 0.4252 - accuracy: 0.8498 - val_loss: 0.4226 - val_accuracy: 0.8811\n",
            "Epoch 10/100\n",
            "14/14 [==============================] - 0s 17ms/step - loss: 0.3967 - accuracy: 0.8638 - val_loss: 0.3985 - val_accuracy: 0.9021\n",
            "Epoch 11/100\n",
            "14/14 [==============================] - 0s 22ms/step - loss: 0.3719 - accuracy: 0.8779 - val_loss: 0.3782 - val_accuracy: 0.9021\n",
            "Epoch 12/100\n",
            "14/14 [==============================] - 0s 18ms/step - loss: 0.3507 - accuracy: 0.8944 - val_loss: 0.3600 - val_accuracy: 0.9091\n",
            "Epoch 13/100\n",
            "14/14 [==============================] - 0s 19ms/step - loss: 0.3319 - accuracy: 0.8967 - val_loss: 0.3441 - val_accuracy: 0.9231\n",
            "Epoch 14/100\n",
            "14/14 [==============================] - 0s 26ms/step - loss: 0.3151 - accuracy: 0.9085 - val_loss: 0.3303 - val_accuracy: 0.9301\n",
            "Epoch 15/100\n",
            "14/14 [==============================] - 0s 20ms/step - loss: 0.3009 - accuracy: 0.9131 - val_loss: 0.3179 - val_accuracy: 0.9301\n",
            "Epoch 16/100\n",
            "14/14 [==============================] - 0s 16ms/step - loss: 0.2876 - accuracy: 0.9272 - val_loss: 0.3069 - val_accuracy: 0.9371\n",
            "Epoch 17/100\n",
            "14/14 [==============================] - 0s 16ms/step - loss: 0.2757 - accuracy: 0.9319 - val_loss: 0.2964 - val_accuracy: 0.9441\n",
            "Epoch 18/100\n",
            "14/14 [==============================] - 0s 16ms/step - loss: 0.2646 - accuracy: 0.9343 - val_loss: 0.2864 - val_accuracy: 0.9441\n",
            "Epoch 19/100\n",
            "14/14 [==============================] - 0s 22ms/step - loss: 0.2547 - accuracy: 0.9390 - val_loss: 0.2779 - val_accuracy: 0.9441\n",
            "Epoch 20/100\n",
            "14/14 [==============================] - 0s 20ms/step - loss: 0.2457 - accuracy: 0.9413 - val_loss: 0.2693 - val_accuracy: 0.9510\n",
            "Epoch 21/100\n",
            "14/14 [==============================] - 0s 20ms/step - loss: 0.2373 - accuracy: 0.9460 - val_loss: 0.2622 - val_accuracy: 0.9441\n",
            "Epoch 22/100\n",
            "14/14 [==============================] - 0s 24ms/step - loss: 0.2300 - accuracy: 0.9507 - val_loss: 0.2552 - val_accuracy: 0.9441\n",
            "Epoch 23/100\n",
            "14/14 [==============================] - 0s 20ms/step - loss: 0.2228 - accuracy: 0.9507 - val_loss: 0.2487 - val_accuracy: 0.9441\n",
            "Epoch 24/100\n",
            "14/14 [==============================] - 0s 34ms/step - loss: 0.2163 - accuracy: 0.9531 - val_loss: 0.2427 - val_accuracy: 0.9441\n",
            "Epoch 25/100\n",
            "14/14 [==============================] - 0s 19ms/step - loss: 0.2102 - accuracy: 0.9577 - val_loss: 0.2369 - val_accuracy: 0.9441\n",
            "Epoch 26/100\n",
            "14/14 [==============================] - 0s 23ms/step - loss: 0.2045 - accuracy: 0.9601 - val_loss: 0.2319 - val_accuracy: 0.9441\n",
            "Epoch 27/100\n",
            "14/14 [==============================] - 0s 37ms/step - loss: 0.1994 - accuracy: 0.9601 - val_loss: 0.2272 - val_accuracy: 0.9441\n",
            "Epoch 28/100\n",
            "14/14 [==============================] - 0s 26ms/step - loss: 0.1946 - accuracy: 0.9624 - val_loss: 0.2224 - val_accuracy: 0.9441\n",
            "Epoch 29/100\n",
            "14/14 [==============================] - 0s 19ms/step - loss: 0.1900 - accuracy: 0.9624 - val_loss: 0.2178 - val_accuracy: 0.9510\n",
            "Epoch 30/100\n",
            "14/14 [==============================] - 0s 19ms/step - loss: 0.1859 - accuracy: 0.9648 - val_loss: 0.2136 - val_accuracy: 0.9510\n",
            "Epoch 31/100\n",
            "14/14 [==============================] - 0s 22ms/step - loss: 0.1819 - accuracy: 0.9671 - val_loss: 0.2096 - val_accuracy: 0.9510\n",
            "Epoch 32/100\n",
            "14/14 [==============================] - 0s 18ms/step - loss: 0.1783 - accuracy: 0.9695 - val_loss: 0.2057 - val_accuracy: 0.9510\n",
            "Epoch 33/100\n",
            "14/14 [==============================] - 0s 18ms/step - loss: 0.1747 - accuracy: 0.9695 - val_loss: 0.2019 - val_accuracy: 0.9510\n",
            "Epoch 34/100\n",
            "14/14 [==============================] - 0s 19ms/step - loss: 0.1714 - accuracy: 0.9718 - val_loss: 0.1984 - val_accuracy: 0.9510\n",
            "Epoch 35/100\n",
            "14/14 [==============================] - 0s 19ms/step - loss: 0.1682 - accuracy: 0.9718 - val_loss: 0.1948 - val_accuracy: 0.9510\n",
            "Epoch 36/100\n",
            "14/14 [==============================] - 0s 23ms/step - loss: 0.1652 - accuracy: 0.9718 - val_loss: 0.1917 - val_accuracy: 0.9510\n",
            "Epoch 37/100\n",
            "14/14 [==============================] - 0s 18ms/step - loss: 0.1624 - accuracy: 0.9718 - val_loss: 0.1882 - val_accuracy: 0.9580\n",
            "Epoch 38/100\n",
            "14/14 [==============================] - 0s 18ms/step - loss: 0.1596 - accuracy: 0.9718 - val_loss: 0.1853 - val_accuracy: 0.9650\n",
            "Epoch 39/100\n",
            "14/14 [==============================] - 0s 18ms/step - loss: 0.1572 - accuracy: 0.9718 - val_loss: 0.1829 - val_accuracy: 0.9580\n",
            "Epoch 40/100\n",
            "14/14 [==============================] - 0s 15ms/step - loss: 0.1546 - accuracy: 0.9718 - val_loss: 0.1798 - val_accuracy: 0.9650\n",
            "Epoch 41/100\n",
            "14/14 [==============================] - 0s 20ms/step - loss: 0.1523 - accuracy: 0.9718 - val_loss: 0.1772 - val_accuracy: 0.9650\n",
            "Epoch 42/100\n",
            "14/14 [==============================] - 0s 19ms/step - loss: 0.1501 - accuracy: 0.9742 - val_loss: 0.1750 - val_accuracy: 0.9650\n",
            "Epoch 43/100\n",
            "14/14 [==============================] - 0s 25ms/step - loss: 0.1480 - accuracy: 0.9742 - val_loss: 0.1722 - val_accuracy: 0.9650\n",
            "Epoch 44/100\n",
            "14/14 [==============================] - 0s 27ms/step - loss: 0.1460 - accuracy: 0.9742 - val_loss: 0.1696 - val_accuracy: 0.9650\n",
            "Epoch 45/100\n",
            "14/14 [==============================] - 0s 24ms/step - loss: 0.1441 - accuracy: 0.9742 - val_loss: 0.1669 - val_accuracy: 0.9650\n",
            "Epoch 46/100\n",
            "14/14 [==============================] - 0s 13ms/step - loss: 0.1423 - accuracy: 0.9765 - val_loss: 0.1648 - val_accuracy: 0.9650\n",
            "Epoch 47/100\n",
            "14/14 [==============================] - 0s 18ms/step - loss: 0.1405 - accuracy: 0.9765 - val_loss: 0.1631 - val_accuracy: 0.9650\n",
            "Epoch 48/100\n",
            "14/14 [==============================] - 0s 22ms/step - loss: 0.1387 - accuracy: 0.9765 - val_loss: 0.1607 - val_accuracy: 0.9650\n",
            "Epoch 49/100\n",
            "14/14 [==============================] - 0s 20ms/step - loss: 0.1370 - accuracy: 0.9765 - val_loss: 0.1582 - val_accuracy: 0.9650\n",
            "Epoch 50/100\n",
            "14/14 [==============================] - 0s 18ms/step - loss: 0.1354 - accuracy: 0.9765 - val_loss: 0.1564 - val_accuracy: 0.9650\n",
            "Epoch 51/100\n",
            "14/14 [==============================] - 0s 18ms/step - loss: 0.1339 - accuracy: 0.9765 - val_loss: 0.1545 - val_accuracy: 0.9650\n",
            "Epoch 52/100\n",
            "14/14 [==============================] - 0s 23ms/step - loss: 0.1324 - accuracy: 0.9765 - val_loss: 0.1531 - val_accuracy: 0.9650\n",
            "Epoch 53/100\n",
            "14/14 [==============================] - 0s 23ms/step - loss: 0.1310 - accuracy: 0.9765 - val_loss: 0.1513 - val_accuracy: 0.9650\n",
            "Epoch 54/100\n",
            "14/14 [==============================] - 0s 10ms/step - loss: 0.1297 - accuracy: 0.9765 - val_loss: 0.1495 - val_accuracy: 0.9650\n",
            "Epoch 55/100\n",
            "14/14 [==============================] - 0s 11ms/step - loss: 0.1283 - accuracy: 0.9765 - val_loss: 0.1479 - val_accuracy: 0.9650\n",
            "Epoch 56/100\n",
            "14/14 [==============================] - 0s 8ms/step - loss: 0.1271 - accuracy: 0.9765 - val_loss: 0.1462 - val_accuracy: 0.9650\n",
            "Epoch 57/100\n",
            "14/14 [==============================] - 0s 9ms/step - loss: 0.1258 - accuracy: 0.9765 - val_loss: 0.1448 - val_accuracy: 0.9650\n",
            "Epoch 58/100\n",
            "14/14 [==============================] - 0s 8ms/step - loss: 0.1247 - accuracy: 0.9765 - val_loss: 0.1431 - val_accuracy: 0.9650\n",
            "Epoch 59/100\n",
            "14/14 [==============================] - 0s 9ms/step - loss: 0.1235 - accuracy: 0.9765 - val_loss: 0.1416 - val_accuracy: 0.9650\n",
            "Epoch 60/100\n",
            "14/14 [==============================] - 0s 8ms/step - loss: 0.1223 - accuracy: 0.9765 - val_loss: 0.1392 - val_accuracy: 0.9650\n",
            "Epoch 61/100\n",
            "14/14 [==============================] - 0s 8ms/step - loss: 0.1213 - accuracy: 0.9765 - val_loss: 0.1378 - val_accuracy: 0.9650\n",
            "Epoch 62/100\n",
            "14/14 [==============================] - 0s 8ms/step - loss: 0.1202 - accuracy: 0.9765 - val_loss: 0.1362 - val_accuracy: 0.9650\n",
            "Epoch 63/100\n",
            "14/14 [==============================] - 0s 6ms/step - loss: 0.1192 - accuracy: 0.9765 - val_loss: 0.1357 - val_accuracy: 0.9650\n",
            "Epoch 64/100\n",
            "14/14 [==============================] - 0s 5ms/step - loss: 0.1182 - accuracy: 0.9765 - val_loss: 0.1345 - val_accuracy: 0.9650\n",
            "Epoch 65/100\n",
            "14/14 [==============================] - 0s 5ms/step - loss: 0.1172 - accuracy: 0.9765 - val_loss: 0.1322 - val_accuracy: 0.9650\n",
            "Epoch 66/100\n",
            "14/14 [==============================] - 0s 6ms/step - loss: 0.1163 - accuracy: 0.9765 - val_loss: 0.1308 - val_accuracy: 0.9650\n",
            "Epoch 67/100\n",
            "14/14 [==============================] - 0s 6ms/step - loss: 0.1154 - accuracy: 0.9765 - val_loss: 0.1293 - val_accuracy: 0.9650\n",
            "Epoch 68/100\n",
            "14/14 [==============================] - 0s 6ms/step - loss: 0.1145 - accuracy: 0.9765 - val_loss: 0.1277 - val_accuracy: 0.9650\n",
            "Epoch 69/100\n",
            "14/14 [==============================] - 0s 6ms/step - loss: 0.1137 - accuracy: 0.9765 - val_loss: 0.1275 - val_accuracy: 0.9650\n",
            "Epoch 70/100\n",
            "14/14 [==============================] - 0s 6ms/step - loss: 0.1129 - accuracy: 0.9765 - val_loss: 0.1267 - val_accuracy: 0.9650\n",
            "Epoch 71/100\n",
            "14/14 [==============================] - 0s 6ms/step - loss: 0.1121 - accuracy: 0.9765 - val_loss: 0.1260 - val_accuracy: 0.9650\n",
            "Epoch 72/100\n",
            "14/14 [==============================] - 0s 6ms/step - loss: 0.1113 - accuracy: 0.9765 - val_loss: 0.1249 - val_accuracy: 0.9720\n",
            "Epoch 73/100\n",
            "14/14 [==============================] - 0s 7ms/step - loss: 0.1105 - accuracy: 0.9765 - val_loss: 0.1238 - val_accuracy: 0.9720\n",
            "Epoch 74/100\n",
            "14/14 [==============================] - 0s 8ms/step - loss: 0.1099 - accuracy: 0.9765 - val_loss: 0.1229 - val_accuracy: 0.9720\n",
            "Epoch 75/100\n",
            "14/14 [==============================] - 0s 9ms/step - loss: 0.1091 - accuracy: 0.9765 - val_loss: 0.1221 - val_accuracy: 0.9720\n",
            "Epoch 76/100\n",
            "14/14 [==============================] - 0s 8ms/step - loss: 0.1084 - accuracy: 0.9765 - val_loss: 0.1209 - val_accuracy: 0.9720\n",
            "Epoch 77/100\n",
            "14/14 [==============================] - 0s 7ms/step - loss: 0.1077 - accuracy: 0.9765 - val_loss: 0.1194 - val_accuracy: 0.9720\n",
            "Epoch 78/100\n",
            "14/14 [==============================] - 0s 7ms/step - loss: 0.1071 - accuracy: 0.9765 - val_loss: 0.1185 - val_accuracy: 0.9720\n",
            "Epoch 79/100\n",
            "14/14 [==============================] - 0s 7ms/step - loss: 0.1064 - accuracy: 0.9765 - val_loss: 0.1171 - val_accuracy: 0.9720\n",
            "Epoch 80/100\n",
            "14/14 [==============================] - 0s 8ms/step - loss: 0.1057 - accuracy: 0.9765 - val_loss: 0.1162 - val_accuracy: 0.9720\n",
            "Epoch 81/100\n",
            "14/14 [==============================] - 0s 7ms/step - loss: 0.1051 - accuracy: 0.9765 - val_loss: 0.1153 - val_accuracy: 0.9720\n",
            "Epoch 82/100\n",
            "14/14 [==============================] - 0s 7ms/step - loss: 0.1045 - accuracy: 0.9765 - val_loss: 0.1143 - val_accuracy: 0.9720\n",
            "Epoch 83/100\n",
            "14/14 [==============================] - 0s 6ms/step - loss: 0.1039 - accuracy: 0.9765 - val_loss: 0.1132 - val_accuracy: 0.9720\n",
            "Epoch 84/100\n",
            "14/14 [==============================] - 0s 7ms/step - loss: 0.1034 - accuracy: 0.9765 - val_loss: 0.1122 - val_accuracy: 0.9720\n",
            "Epoch 85/100\n",
            "14/14 [==============================] - 0s 7ms/step - loss: 0.1028 - accuracy: 0.9765 - val_loss: 0.1116 - val_accuracy: 0.9720\n",
            "Epoch 86/100\n",
            "14/14 [==============================] - 0s 7ms/step - loss: 0.1022 - accuracy: 0.9765 - val_loss: 0.1111 - val_accuracy: 0.9720\n",
            "Epoch 87/100\n",
            "14/14 [==============================] - 0s 8ms/step - loss: 0.1017 - accuracy: 0.9765 - val_loss: 0.1097 - val_accuracy: 0.9720\n",
            "Epoch 88/100\n",
            "14/14 [==============================] - 0s 7ms/step - loss: 0.1011 - accuracy: 0.9765 - val_loss: 0.1087 - val_accuracy: 0.9720\n",
            "Epoch 89/100\n",
            "14/14 [==============================] - 0s 7ms/step - loss: 0.1006 - accuracy: 0.9765 - val_loss: 0.1074 - val_accuracy: 0.9720\n",
            "Epoch 90/100\n",
            "14/14 [==============================] - 0s 8ms/step - loss: 0.1001 - accuracy: 0.9765 - val_loss: 0.1065 - val_accuracy: 0.9720\n",
            "Epoch 91/100\n",
            "14/14 [==============================] - 0s 7ms/step - loss: 0.0996 - accuracy: 0.9789 - val_loss: 0.1062 - val_accuracy: 0.9720\n",
            "Epoch 92/100\n",
            "14/14 [==============================] - 0s 7ms/step - loss: 0.0991 - accuracy: 0.9765 - val_loss: 0.1056 - val_accuracy: 0.9720\n",
            "Epoch 93/100\n",
            "14/14 [==============================] - 0s 6ms/step - loss: 0.0987 - accuracy: 0.9765 - val_loss: 0.1046 - val_accuracy: 0.9720\n",
            "Epoch 94/100\n",
            "14/14 [==============================] - 0s 7ms/step - loss: 0.0982 - accuracy: 0.9765 - val_loss: 0.1041 - val_accuracy: 0.9720\n",
            "Epoch 95/100\n",
            "14/14 [==============================] - 0s 7ms/step - loss: 0.0977 - accuracy: 0.9765 - val_loss: 0.1032 - val_accuracy: 0.9720\n",
            "Epoch 96/100\n",
            "14/14 [==============================] - 0s 6ms/step - loss: 0.0972 - accuracy: 0.9789 - val_loss: 0.1021 - val_accuracy: 0.9720\n",
            "Epoch 97/100\n",
            "14/14 [==============================] - 0s 7ms/step - loss: 0.0968 - accuracy: 0.9789 - val_loss: 0.1012 - val_accuracy: 0.9720\n",
            "Epoch 98/100\n",
            "14/14 [==============================] - 0s 6ms/step - loss: 0.0964 - accuracy: 0.9789 - val_loss: 0.1009 - val_accuracy: 0.9790\n",
            "Epoch 99/100\n",
            "14/14 [==============================] - 0s 6ms/step - loss: 0.0959 - accuracy: 0.9789 - val_loss: 0.1001 - val_accuracy: 0.9720\n",
            "Epoch 100/100\n",
            "14/14 [==============================] - 0s 7ms/step - loss: 0.0955 - accuracy: 0.9789 - val_loss: 0.0995 - val_accuracy: 0.9790\n"
          ]
        }
      ],
      "source": [
        "treinamento = model.fit(X_train, Y_train, validation_data=(X_test, Y_test), epochs=100)"
      ]
    },
    {
      "cell_type": "markdown",
      "metadata": {
        "id": "28wTh0KEY9K5"
      },
      "source": [
        "#### 9. Resultados"
      ]
    },
    {
      "cell_type": "code",
      "execution_count": null,
      "metadata": {
        "colab": {
          "base_uri": "https://localhost:8080/"
        },
        "id": "qk5CC7N5YlFn",
        "outputId": "3cfbbe61-91ce-4602-be7e-58a023920198"
      },
      "outputs": [
        {
          "output_type": "stream",
          "name": "stdout",
          "text": [
            "14/14 [==============================] - 0s 3ms/step - loss: 0.0952 - accuracy: 0.9789\n",
            "Train score:  [0.09523139894008636, 0.9788732528686523]\n",
            "5/5 [==============================] - 0s 3ms/step - loss: 0.0995 - accuracy: 0.9790\n",
            "Test score:  [0.09950442612171173, 0.9790209531784058]\n"
          ]
        }
      ],
      "source": [
        "print(\"Train score: \", model.evaluate(X_train, Y_train))\n",
        "print(\"Test score: \", model.evaluate(X_test, Y_test))"
      ]
    },
    {
      "cell_type": "code",
      "execution_count": null,
      "metadata": {
        "colab": {
          "base_uri": "https://localhost:8080/",
          "height": 447
        },
        "id": "RVUV3osUY63F",
        "outputId": "c9ebc27f-272e-4af2-c8c8-55da130248f9"
      },
      "outputs": [
        {
          "output_type": "execute_result",
          "data": {
            "text/plain": [
              "<matplotlib.legend.Legend at 0x7e30006b3cd0>"
            ]
          },
          "metadata": {},
          "execution_count": 14
        },
        {
          "output_type": "display_data",
          "data": {
            "text/plain": [
              "<Figure size 640x480 with 1 Axes>"
            ],
            "image/png": "[encoded data removed]"
          },
          "metadata": {}
        }
      ],
      "source": [
        "# Gráficos da Descida do Gradiente\n",
        "plt.plot(treinamento.history['loss'], label='loss')\n",
        "plt.plot(treinamento.history['val_loss'], label='val_loss')\n",
        "plt.legend()"
      ]
    },
    {
      "cell_type": "code",
      "execution_count": null,
      "metadata": {
        "colab": {
          "base_uri": "https://localhost:8080/",
          "height": 447
        },
        "id": "GEVC4sH5Zo6j",
        "outputId": "9fa6c3c1-e0dc-4cd7-e517-68a6a15ae809"
      },
      "outputs": [
        {
          "output_type": "execute_result",
          "data": {
            "text/plain": [
              "<matplotlib.legend.Legend at 0x7e30005692a0>"
            ]
          },
          "metadata": {},
          "execution_count": 15
        },
        {
          "output_type": "display_data",
          "data": {
            "text/plain": [
              "<Figure size 640x480 with 1 Axes>"
            ],
            "image/png": "[encoded data removed]"
          },
          "metadata": {}
        }
      ],
      "source": [
        "# Gráficos de Acurácia\n",
        "plt.plot(treinamento.history['accuracy'], label=\"acc\")\n",
        "plt.plot(treinamento.history['val_accuracy'], label='val_acc')\n",
        "plt.legend()"
      ]
    },
    {
      "cell_type": "markdown",
      "metadata": {
        "id": "ToJHy8v3Y_b4"
      },
      "source": [
        "#### 10. Efetuando predições"
      ]
    },
    {
      "cell_type": "code",
      "execution_count": null,
      "metadata": {
        "colab": {
          "base_uri": "https://localhost:8080/"
        },
        "id": "MeLom5lPZzTs",
        "outputId": "defd7103-ff62-44a6-a55f-91ac651b8cdf"
      },
      "outputs": [
        {
          "output_type": "stream",
          "name": "stdout",
          "text": [
            "5/5 [==============================] - 0s 2ms/step\n",
            "[[4.40225005e-02]\n",
            " [7.20904052e-01]\n",
            " [9.85355020e-01]\n",
            " [9.88835275e-01]\n",
            " [3.90005989e-05]\n",
            " [5.32907784e-01]\n",
            " [9.97484088e-01]\n",
            " [6.06453941e-05]\n",
            " [3.55726570e-01]\n",
            " [4.42788769e-05]\n",
            " [1.73565022e-05]\n",
            " [9.99048054e-01]\n",
            " [9.66503978e-01]\n",
            " [1.98450863e-01]\n",
            " [9.97111320e-01]\n",
            " [9.99427736e-01]\n",
            " [9.97791886e-01]\n",
            " [9.99266088e-01]\n",
            " [9.95923400e-01]\n",
            " [9.57197964e-01]\n",
            " [2.40823701e-02]\n",
            " [9.51970935e-01]\n",
            " [9.85228956e-01]\n",
            " [1.62763223e-02]\n",
            " [9.81506824e-01]\n",
            " [6.98655320e-04]\n",
            " [9.99657512e-01]\n",
            " [9.68184710e-01]\n",
            " [9.99279201e-01]\n",
            " [4.59800102e-02]\n",
            " [9.01685655e-01]\n",
            " [7.67887682e-02]\n",
            " [7.55428731e-01]\n",
            " [9.78370547e-01]\n",
            " [9.99396563e-01]\n",
            " [9.28804576e-01]\n",
            " [1.40436050e-05]\n",
            " [7.67882774e-03]\n",
            " [9.98950839e-01]\n",
            " [4.05180156e-02]\n",
            " [9.99188840e-01]\n",
            " [8.14845920e-01]\n",
            " [3.28656510e-02]\n",
            " [5.11413515e-02]\n",
            " [1.34694418e-02]\n",
            " [9.99320269e-01]\n",
            " [1.45205914e-03]\n",
            " [8.91027987e-01]\n",
            " [9.97142494e-01]\n",
            " [9.44106162e-01]\n",
            " [9.43260372e-01]\n",
            " [1.02012707e-02]\n",
            " [9.99543190e-01]\n",
            " [9.45875883e-01]\n",
            " [9.70432162e-01]\n",
            " [4.50050905e-02]\n",
            " [9.82678115e-01]\n",
            " [9.92746413e-01]\n",
            " [9.86346349e-05]\n",
            " [9.97299135e-01]\n",
            " [2.77888507e-01]\n",
            " [9.29920375e-01]\n",
            " [9.98569965e-01]\n",
            " [9.89323318e-01]\n",
            " [9.95634973e-01]\n",
            " [5.75052425e-02]\n",
            " [9.64554191e-01]\n",
            " [9.81992364e-01]\n",
            " [9.90531802e-01]\n",
            " [8.11850885e-04]\n",
            " [7.88114727e-01]\n",
            " [2.61000972e-02]\n",
            " [6.54623330e-01]\n",
            " [1.25236064e-03]\n",
            " [1.17103852e-01]\n",
            " [9.95117068e-01]\n",
            " [9.87298548e-01]\n",
            " [2.30849981e-01]\n",
            " [9.98832166e-01]\n",
            " [8.65836348e-03]\n",
            " [9.95860636e-01]\n",
            " [9.94024336e-01]\n",
            " [9.99046504e-01]\n",
            " [6.39117956e-02]\n",
            " [5.58659672e-13]\n",
            " [2.37283739e-03]\n",
            " [9.98998821e-01]\n",
            " [9.97626841e-01]\n",
            " [9.96557772e-01]\n",
            " [9.92216051e-01]\n",
            " [8.48764903e-05]\n",
            " [8.24607074e-01]\n",
            " [9.65780139e-01]\n",
            " [9.98470724e-01]\n",
            " [8.21052074e-01]\n",
            " [9.82952952e-01]\n",
            " [9.65786278e-01]\n",
            " [9.92068052e-01]\n",
            " [4.21893671e-02]\n",
            " [9.97590184e-01]\n",
            " [9.97039378e-01]\n",
            " [9.91640925e-01]\n",
            " [9.77203727e-01]\n",
            " [9.98884857e-01]\n",
            " [5.99563479e-01]\n",
            " [9.96604681e-01]\n",
            " [1.53346161e-06]\n",
            " [2.12764349e-02]\n",
            " [9.99415636e-01]\n",
            " [7.95087695e-01]\n",
            " [9.17396963e-01]\n",
            " [8.32614839e-01]\n",
            " [9.93319631e-01]\n",
            " [3.25976033e-03]\n",
            " [9.89570618e-01]\n",
            " [2.78158346e-03]\n",
            " [9.99019146e-01]\n",
            " [4.99968767e-01]\n",
            " [1.36168385e-02]\n",
            " [4.20924334e-04]\n",
            " [1.09742768e-03]\n",
            " [2.67169584e-04]\n",
            " [9.93248105e-01]\n",
            " [7.42086351e-01]\n",
            " [5.80238644e-03]\n",
            " [8.35233867e-01]\n",
            " [9.99098778e-01]\n",
            " [9.97517467e-01]\n",
            " [1.98493799e-04]\n",
            " [3.03422242e-01]\n",
            " [9.98623371e-01]\n",
            " [8.92066881e-02]\n",
            " [9.87117112e-01]\n",
            " [9.87154365e-01]\n",
            " [3.48402321e-01]\n",
            " [8.99089754e-01]\n",
            " [9.53557551e-01]\n",
            " [9.96690869e-01]\n",
            " [9.12845671e-01]\n",
            " [9.61326241e-01]\n",
            " [9.86278236e-01]\n",
            " [8.76274586e-01]\n",
            " [2.65416438e-05]]\n"
          ]
        }
      ],
      "source": [
        "pred = model.predict(X_test)\n",
        "print(pred)"
      ]
    },
    {
      "cell_type": "code",
      "execution_count": null,
      "metadata": {
        "colab": {
          "base_uri": "https://localhost:8080/"
        },
        "id": "yVQm2eWsZ4b1",
        "outputId": "8f3c47d9-d2dc-44e4-c9fe-1099c73bcb4b"
      },
      "outputs": [
        {
          "output_type": "stream",
          "name": "stdout",
          "text": [
            "[0. 1. 1. 1. 0. 1. 1. 0. 0. 0. 0. 1. 1. 0. 1. 1. 1. 1. 1. 1. 0. 1. 1. 0.\n",
            " 1. 0. 1. 1. 1. 0. 1. 0. 1. 1. 1. 1. 0. 0. 1. 0. 1. 1. 0. 0. 0. 1. 0. 1.\n",
            " 1. 1. 1. 0. 1. 1. 1. 0. 1. 1. 0. 1. 0. 1. 1. 1. 1. 0. 1. 1. 1. 0. 1. 0.\n",
            " 1. 0. 0. 1. 1. 0. 1. 0. 1. 1. 1. 0. 0. 0. 1. 1. 1. 1. 0. 1. 1. 1. 1. 1.\n",
            " 1. 1. 0. 1. 1. 1. 1. 1. 1. 1. 0. 0. 1. 1. 1. 1. 1. 0. 1. 0. 1. 0. 0. 0.\n",
            " 0. 0. 1. 1. 0. 1. 1. 1. 0. 0. 1. 0. 1. 1. 0. 1. 1. 1. 1. 1. 1. 1. 0.]\n"
          ]
        }
      ],
      "source": [
        "# flatten: transformar em vetor, pois está em matriz (N,1)\n",
        "pred = np.round(pred).flatten()\n",
        "print(pred)"
      ]
    },
    {
      "cell_type": "code",
      "source": [],
      "metadata": {
        "id": "I49nZ5ZJZzQR"
      },
      "execution_count": null,
      "outputs": []
    },
    {
      "cell_type": "markdown",
      "metadata": {
        "id": "ltz9FTAGZ-La"
      },
      "source": [
        "#### 11. Cálculo da Acurácia"
      ]
    },
    {
      "cell_type": "code",
      "execution_count": null,
      "metadata": {
        "colab": {
          "base_uri": "https://localhost:8080/"
        },
        "id": "WU8nCMEZaB8g",
        "outputId": "5d3a76ad-4f77-4f27-9b50-d4d5f70ee910"
      },
      "outputs": [
        {
          "output_type": "stream",
          "name": "stdout",
          "text": [
            "Acurácia na mão:  0.9790209790209791\n",
            "5/5 [==============================] - 0s 4ms/step - loss: 0.0995 - accuracy: 0.9790\n",
            "Evaluate:  [0.09950442612171173, 0.9790209531784058]\n",
            "\n",
            "5/5 [==============================] - 0s 3ms/step - loss: 0.0995 - accuracy: 0.9790\n",
            "Acurácia:  0.9790209531784058\n"
          ]
        }
      ],
      "source": [
        "print(\"Acurácia na mão: \", np.mean(pred == Y_test))\n",
        "print(\"Evaluate: \", model.evaluate(X_test, Y_test))\n",
        "print(\"\")\n",
        "print(\"Acurácia: \", model.evaluate(X_test, Y_test)[1])"
      ]
    },
    {
      "cell_type": "code",
      "execution_count": null,
      "metadata": {
        "colab": {
          "base_uri": "https://localhost:8080/",
          "height": 654
        },
        "id": "ZJum2-qYZ7IZ",
        "outputId": "11518e13-647a-44a1-81aa-0e711683eb7d"
      },
      "outputs": [
        {
          "output_type": "execute_result",
          "data": {
            "text/plain": [
              "(<Figure size 700x700 with 1 Axes>,\n",
              " <Axes: xlabel='predicted label', ylabel='true label'>)"
            ]
          },
          "metadata": {},
          "execution_count": 19
        },
        {
          "output_type": "display_data",
          "data": {
            "text/plain": [
              "<Figure size 700x700 with 1 Axes>"
            ],
            "image/png": "[encoded data removed]"
          },
          "metadata": {}
        }
      ],
      "source": [
        "# Matriz de confusão\n",
        "cm = confusion_matrix(Y_test, pred)\n",
        "plot_confusion_matrix(conf_mat=cm, figsize=(7, 7), show_normed=True)"
      ]
    },
    {
      "cell_type": "markdown",
      "metadata": {
        "id": "ouujzhEpcWoy"
      },
      "source": [
        "---\n",
        "# Prática 2: MNIST"
      ]
    },
    {
      "cell_type": "markdown",
      "metadata": {
        "id": "z6xrBcnockXM"
      },
      "source": [
        "#### 1. Importação das bibliotecas"
      ]
    },
    {
      "cell_type": "code",
      "execution_count": null,
      "metadata": {
        "id": "fLsOdvIScceD"
      },
      "outputs": [],
      "source": [
        "import tensorflow as tf\n",
        "import matplotlib.pyplot as plt\n",
        "import numpy as np\n",
        "from mlxtend.plotting import plot_confusion_matrix\n",
        "from sklearn.metrics import confusion_matrix"
      ]
    },
    {
      "cell_type": "markdown",
      "metadata": {
        "id": "LOJvhTo3corx"
      },
      "source": [
        "#### 2. Importação dos dados"
      ]
    },
    {
      "cell_type": "code",
      "execution_count": null,
      "metadata": {
        "id": "YKnKUE9_ctlg"
      },
      "outputs": [],
      "source": [
        "(x_train, y_train), (x_test, y_test) = tf.keras.datasets.mnist.load_data()"
      ]
    },
    {
      "cell_type": "code",
      "execution_count": null,
      "metadata": {
        "colab": {
          "base_uri": "https://localhost:8080/"
        },
        "id": "aBXP4BDOcvjr",
        "outputId": "d6c4cee0-f7ed-449c-b64a-f43d4f709666"
      },
      "outputs": [
        {
          "output_type": "stream",
          "name": "stdout",
          "text": [
            "x_train.shape:  (60000, 28, 28)\n",
            "y_train.shape:  (60000,)\n",
            "x_test.shape:  (10000,)\n",
            "y_test.shape:  (10000,)\n"
          ]
        }
      ],
      "source": [
        "print(\"x_train.shape: \", x_train.shape)\n",
        "print(\"y_train.shape: \", y_train.shape)\n",
        "print(\"x_test.shape: \", y_test.shape)\n",
        "print(\"y_test.shape: \", y_test.shape)"
      ]
    },
    {
      "cell_type": "code",
      "source": [
        "display(x_train)"
      ],
      "metadata": {
        "colab": {
          "base_uri": "https://localhost:8080/",
          "height": 868
        },
        "id": "97A3erMz5alw",
        "outputId": "f56391a8-6693-4138-b3d2-922e8d08aad0"
      },
      "execution_count": null,
      "outputs": [
        {
          "output_type": "display_data",
          "data": {
            "text/plain": [
              "array([[[0, 0, 0, ..., 0, 0, 0],\n",
              "        [0, 0, 0, ..., 0, 0, 0],\n",
              "        [0, 0, 0, ..., 0, 0, 0],\n",
              "        ...,\n",
              "        [0, 0, 0, ..., 0, 0, 0],\n",
              "        [0, 0, 0, ..., 0, 0, 0],\n",
              "        [0, 0, 0, ..., 0, 0, 0]],\n",
              "\n",
              "       [[0, 0, 0, ..., 0, 0, 0],\n",
              "        [0, 0, 0, ..., 0, 0, 0],\n",
              "        [0, 0, 0, ..., 0, 0, 0],\n",
              "        ...,\n",
              "        [0, 0, 0, ..., 0, 0, 0],\n",
              "        [0, 0, 0, ..., 0, 0, 0],\n",
              "        [0, 0, 0, ..., 0, 0, 0]],\n",
              "\n",
              "       [[0, 0, 0, ..., 0, 0, 0],\n",
              "        [0, 0, 0, ..., 0, 0, 0],\n",
              "        [0, 0, 0, ..., 0, 0, 0],\n",
              "        ...,\n",
              "        [0, 0, 0, ..., 0, 0, 0],\n",
              "        [0, 0, 0, ..., 0, 0, 0],\n",
              "        [0, 0, 0, ..., 0, 0, 0]],\n",
              "\n",
              "       ...,\n",
              "\n",
              "       [[0, 0, 0, ..., 0, 0, 0],\n",
              "        [0, 0, 0, ..., 0, 0, 0],\n",
              "        [0, 0, 0, ..., 0, 0, 0],\n",
              "        ...,\n",
              "        [0, 0, 0, ..., 0, 0, 0],\n",
              "        [0, 0, 0, ..., 0, 0, 0],\n",
              "        [0, 0, 0, ..., 0, 0, 0]],\n",
              "\n",
              "       [[0, 0, 0, ..., 0, 0, 0],\n",
              "        [0, 0, 0, ..., 0, 0, 0],\n",
              "        [0, 0, 0, ..., 0, 0, 0],\n",
              "        ...,\n",
              "        [0, 0, 0, ..., 0, 0, 0],\n",
              "        [0, 0, 0, ..., 0, 0, 0],\n",
              "        [0, 0, 0, ..., 0, 0, 0]],\n",
              "\n",
              "       [[0, 0, 0, ..., 0, 0, 0],\n",
              "        [0, 0, 0, ..., 0, 0, 0],\n",
              "        [0, 0, 0, ..., 0, 0, 0],\n",
              "        ...,\n",
              "        [0, 0, 0, ..., 0, 0, 0],\n",
              "        [0, 0, 0, ..., 0, 0, 0],\n",
              "        [0, 0, 0, ..., 0, 0, 0]]], dtype=uint8)"
            ]
          },
          "metadata": {}
        }
      ]
    },
    {
      "cell_type": "markdown",
      "metadata": {
        "id": "xyFXWCi-cy3a"
      },
      "source": [
        "#### 3. Pré-processamento"
      ]
    },
    {
      "cell_type": "code",
      "execution_count": null,
      "metadata": {
        "id": "tpZok8rTc1dQ"
      },
      "outputs": [],
      "source": [
        "x_train, x_test = x_train/255.0, x_test/255.0"
      ]
    },
    {
      "cell_type": "markdown",
      "metadata": {
        "id": "Mhka3hzAc3t3"
      },
      "source": [
        "#### 4. Criação do modelo"
      ]
    },
    {
      "cell_type": "code",
      "execution_count": null,
      "metadata": {
        "id": "47SAhnFBc6pK"
      },
      "outputs": [],
      "source": [
        "i = tf.keras.layers.Input(shape=(28, 28))\n",
        "x = tf.keras.layers.Flatten()(i)\n",
        "x = tf.keras.layers.Dense(128, activation=\"relu\")(x)\n",
        "x = tf.keras.layers.Dropout(0.2)(x)\n",
        "x = tf.keras.layers.Dense(10, activation=\"softmax\")(x)\n",
        "\n",
        "model = tf.keras.models.Model(i, x)"
      ]
    },
    {
      "cell_type": "markdown",
      "metadata": {
        "id": "Y_MB7OB-c-5h"
      },
      "source": [
        "#### 5. Compilação e treinamento do modelo"
      ]
    },
    {
      "cell_type": "code",
      "execution_count": null,
      "metadata": {
        "id": "EFYPx61gdBse"
      },
      "outputs": [],
      "source": [
        "model.compile(optimizer='adam',\n",
        "              loss='sparse_categorical_crossentropy',\n",
        "              metrics=['accuracy'])"
      ]
    },
    {
      "cell_type": "code",
      "execution_count": null,
      "metadata": {
        "colab": {
          "base_uri": "https://localhost:8080/"
        },
        "id": "R27Uw52LdDZc",
        "outputId": "3d081756-0b56-47e4-ba0b-07fd1ac57980"
      },
      "outputs": [
        {
          "output_type": "stream",
          "name": "stdout",
          "text": [
            "Epoch 1/10\n",
            "1875/1875 [==============================] - 9s 4ms/step - loss: 0.2974 - accuracy: 0.9128 - val_loss: 0.1514 - val_accuracy: 0.9543\n",
            "Epoch 2/10\n",
            "1875/1875 [==============================] - 6s 3ms/step - loss: 0.1426 - accuracy: 0.9577 - val_loss: 0.0982 - val_accuracy: 0.9718\n",
            "Epoch 3/10\n",
            "1875/1875 [==============================] - 6s 3ms/step - loss: 0.1087 - accuracy: 0.9667 - val_loss: 0.0865 - val_accuracy: 0.9737\n",
            "Epoch 4/10\n",
            "1875/1875 [==============================] - 6s 3ms/step - loss: 0.0889 - accuracy: 0.9728 - val_loss: 0.0796 - val_accuracy: 0.9742\n",
            "Epoch 5/10\n",
            "1875/1875 [==============================] - 6s 3ms/step - loss: 0.0739 - accuracy: 0.9770 - val_loss: 0.0764 - val_accuracy: 0.9763\n",
            "Epoch 6/10\n",
            "1875/1875 [==============================] - 6s 3ms/step - loss: 0.0648 - accuracy: 0.9788 - val_loss: 0.0700 - val_accuracy: 0.9789\n",
            "Epoch 7/10\n",
            "1875/1875 [==============================] - 7s 4ms/step - loss: 0.0583 - accuracy: 0.9812 - val_loss: 0.0708 - val_accuracy: 0.9784\n",
            "Epoch 8/10\n",
            "1875/1875 [==============================] - 5s 3ms/step - loss: 0.0522 - accuracy: 0.9832 - val_loss: 0.0759 - val_accuracy: 0.9777\n",
            "Epoch 9/10\n",
            "1875/1875 [==============================] - 6s 3ms/step - loss: 0.0470 - accuracy: 0.9844 - val_loss: 0.0644 - val_accuracy: 0.9789\n",
            "Epoch 10/10\n",
            "1875/1875 [==============================] - 6s 3ms/step - loss: 0.0434 - accuracy: 0.9856 - val_loss: 0.0676 - val_accuracy: 0.9799\n"
          ]
        }
      ],
      "source": [
        "r = model.fit(x_train,\n",
        "              y_train,\n",
        "              validation_data=(x_test, y_test),\n",
        "              epochs=10)"
      ]
    },
    {
      "cell_type": "markdown",
      "metadata": {
        "id": "auz-rodqdJtb"
      },
      "source": [
        "#### 6. Avaliação do modelo"
      ]
    },
    {
      "cell_type": "code",
      "execution_count": null,
      "metadata": {
        "id": "jQvpyh8jdM33",
        "colab": {
          "base_uri": "https://localhost:8080/",
          "height": 447
        },
        "outputId": "e1ecb4cd-3e7c-4bc4-ea98-a5bbaef1ee75"
      },
      "outputs": [
        {
          "output_type": "execute_result",
          "data": {
            "text/plain": [
              "<matplotlib.legend.Legend at 0x7e30006a2200>"
            ]
          },
          "metadata": {},
          "execution_count": 27
        },
        {
          "output_type": "display_data",
          "data": {
            "text/plain": [
              "<Figure size 640x480 with 1 Axes>"
            ],
            "image/png": "[encoded data removed]"
          },
          "metadata": {}
        }
      ],
      "source": [
        "# Plotar a função de perda\n",
        "plt.plot(r.history[\"loss\"], label=\"loss\")\n",
        "plt.plot(r.history[\"val_loss\"], label=\"val_loss\")\n",
        "plt.legend()"
      ]
    },
    {
      "cell_type": "code",
      "execution_count": null,
      "metadata": {
        "id": "ehBboNf7dNgc",
        "colab": {
          "base_uri": "https://localhost:8080/",
          "height": 447
        },
        "outputId": "dfb8de89-aed0-44c9-997d-b268ea39b243"
      },
      "outputs": [
        {
          "output_type": "execute_result",
          "data": {
            "text/plain": [
              "<matplotlib.legend.Legend at 0x7e3000265fc0>"
            ]
          },
          "metadata": {},
          "execution_count": 28
        },
        {
          "output_type": "display_data",
          "data": {
            "text/plain": [
              "<Figure size 640x480 with 1 Axes>"
            ],
            "image/png": "[encoded data removed]"
          },
          "metadata": {}
        }
      ],
      "source": [
        "# Plotar a acurácia\n",
        "plt.plot(r.history[\"accuracy\"], label=\"acc\")\n",
        "plt.plot(r.history[\"val_accuracy\"], label=\"val_acc\")\n",
        "plt.legend()"
      ]
    },
    {
      "cell_type": "code",
      "execution_count": null,
      "metadata": {
        "id": "SoPKPq9BdNju",
        "colab": {
          "base_uri": "https://localhost:8080/"
        },
        "outputId": "8e4d264f-7d20-446a-b4f8-09e33e22797a"
      },
      "outputs": [
        {
          "output_type": "stream",
          "name": "stdout",
          "text": [
            "313/313 [==============================] - 1s 2ms/step - loss: 0.0676 - accuracy: 0.9799\n",
            "[0.06759855151176453, 0.9799000024795532]\n"
          ]
        }
      ],
      "source": [
        "# Avaliar o modelo com a base de teste\n",
        "print( model.evaluate(x_test, y_test) )"
      ]
    },
    {
      "cell_type": "markdown",
      "metadata": {
        "id": "q9Td-MXIdSNc"
      },
      "source": [
        "#### 7. Predições"
      ]
    },
    {
      "cell_type": "code",
      "execution_count": null,
      "metadata": {
        "id": "9IWFAQ1udUJ-",
        "colab": {
          "base_uri": "https://localhost:8080/"
        },
        "outputId": "98253856-ac06-4a92-cfa4-4a6ea337b8c5"
      },
      "outputs": [
        {
          "output_type": "stream",
          "name": "stdout",
          "text": [
            "313/313 [==============================] - 1s 2ms/step\n",
            "[7 2 1 ... 4 5 6]\n"
          ]
        }
      ],
      "source": [
        "y_pred = model.predict(x_test).argmax(axis=1)\n",
        "print(y_pred)"
      ]
    },
    {
      "cell_type": "code",
      "execution_count": null,
      "metadata": {
        "id": "BiNOpMYKdWFY",
        "colab": {
          "base_uri": "https://localhost:8080/",
          "height": 654
        },
        "outputId": "ceed634b-7c93-4f2a-ed99-8dedcfb08274"
      },
      "outputs": [
        {
          "output_type": "execute_result",
          "data": {
            "text/plain": [
              "(<Figure size 700x700 with 1 Axes>,\n",
              " <Axes: xlabel='predicted label', ylabel='true label'>)"
            ]
          },
          "metadata": {},
          "execution_count": 31
        },
        {
          "output_type": "display_data",
          "data": {
            "text/plain": [
              "<Figure size 700x700 with 1 Axes>"
            ],
            "image/png": "[encoded data removed]"
          },
          "metadata": {}
        }
      ],
      "source": [
        "# Matriz de confusão\n",
        "cm = confusion_matrix(y_test, y_pred)\n",
        "plot_confusion_matrix(conf_mat=cm, figsize=(7, 7),\n",
        "                      show_normed=True)"
      ]
    },
    {
      "cell_type": "markdown",
      "metadata": {
        "id": "aa9Gh1SUdaZX"
      },
      "source": [
        "#### 8. Mostrar algumas classificações erradas"
      ]
    },
    {
      "cell_type": "code",
      "execution_count": null,
      "metadata": {
        "id": "3TNJe024dc58"
      },
      "outputs": [],
      "source": [
        "misclassified = np.where(y_pred != y_test)[0]\n",
        "\n",
        "i = np.random.choice(misclassified)"
      ]
    },
    {
      "cell_type": "code",
      "execution_count": null,
      "metadata": {
        "id": "TEBbzu40dfCH",
        "colab": {
          "base_uri": "https://localhost:8080/",
          "height": 469
        },
        "outputId": "55179a96-e643-433f-f2b9-81aee8adf251"
      },
      "outputs": [
        {
          "output_type": "execute_result",
          "data": {
            "text/plain": [
              "Text(0.5, 1.0, 'True label: 7 Predicted: 2')"
            ]
          },
          "metadata": {},
          "execution_count": 33
        },
        {
          "output_type": "display_data",
          "data": {
            "text/plain": [
              "<Figure size 640x480 with 1 Axes>"
            ],
            "image/png": "[encoded data removed]"
          },
          "metadata": {}
        }
      ],
      "source": [
        "plt.imshow(x_test[i].reshape(28, 28), cmap=\"gray\")\n",
        "plt.title(\"True label: %s Predicted: %s\" % (y_test[i], y_pred[i]))"
      ]
    },
    {
      "cell_type": "markdown",
      "metadata": {
        "id": "0NHcMq0IdhLU"
      },
      "source": [
        "---\n",
        "\n",
        "# Fim do código"
      ]
    }
  ],
  "metadata": {
    "colab": {
      "provenance": [],
      "gpuType": "T4",
      "include_colab_link": true
    },
    "kernelspec": {
      "display_name": "Python 3",
      "name": "python3"
    },
    "language_info": {
      "name": "python"
    },
    "accelerator": "GPU"
  },
  "nbformat": 4,
  "nbformat_minor": 0
}